{
 "cells": [
  {
   "cell_type": "code",
   "execution_count": 1,
   "metadata": {},
   "outputs": [],
   "source": [
    "fib_nums = {}\n",
    "def fib(n):\n",
    "    if n in fib_nums:\n",
    "        return fib_nums.get(n)\n",
    "    elif n <= 2:\n",
    "        return 1\n",
    "    else:\n",
    "        fib_nums[n] = fib(n-1) + fib(n-2)\n",
    "    return fib(n)"
   ]
  },
  {
   "cell_type": "code",
   "execution_count": 7,
   "metadata": {},
   "outputs": [
    {
     "data": {
      "text/plain": [
       "190392490709135"
      ]
     },
     "execution_count": 7,
     "metadata": {},
     "output_type": "execute_result"
    }
   ],
   "source": [
    "fib(70)"
   ]
  },
  {
   "cell_type": "code",
   "execution_count": 18,
   "metadata": {},
   "outputs": [],
   "source": [
    "def fib(n, memo = {}):\n",
    "    if n in memo:\n",
    "        return memo.get(n)\n",
    "    elif n <= 2:\n",
    "        return 1\n",
    "    \n",
    "    res = fib(n-1, memo) + fib(n-2, memo)\n",
    "    memo[n] = res\n",
    "    return res"
   ]
  },
  {
   "cell_type": "code",
   "execution_count": 21,
   "metadata": {},
   "outputs": [
    {
     "data": {
      "text/plain": [
       "280571172992510140037611932413038677189525"
      ]
     },
     "execution_count": 21,
     "metadata": {},
     "output_type": "execute_result"
    }
   ],
   "source": [
    "fib(200)"
   ]
  },
  {
   "cell_type": "code",
   "execution_count": 31,
   "metadata": {},
   "outputs": [],
   "source": [
    "def fib_tab(n):\n",
    "    if n<=2:\n",
    "        return 1\n",
    "    fib_nums = [0, 1, 1]\n",
    "    for i in range(3, n+1):\n",
    "        fib_nums.append(fib_nums[i-1] + fib_nums[i-2])\n",
    "        \n",
    "    return fib_nums[n]"
   ]
  },
  {
   "cell_type": "code",
   "execution_count": 32,
   "metadata": {
    "scrolled": true
   },
   "outputs": [
    {
     "data": {
      "text/plain": [
       "13"
      ]
     },
     "execution_count": 32,
     "metadata": {},
     "output_type": "execute_result"
    }
   ],
   "source": [
    "fib_tab(7)"
   ]
  },
  {
   "cell_type": "code",
   "execution_count": 33,
   "metadata": {},
   "outputs": [
    {
     "data": {
      "text/plain": [
       "True"
      ]
     },
     "execution_count": 33,
     "metadata": {},
     "output_type": "execute_result"
    }
   ],
   "source": [
    "fib(100) == fib_tab(100)"
   ]
  },
  {
   "cell_type": "code",
   "execution_count": 35,
   "metadata": {},
   "outputs": [
    {
     "data": {
      "text/plain": [
       "43466557686937456435688527675040625802564660517371780402481729089536555417949051890403879840079255169295922593080322634775209689623239873322471161642996440906533187938298969649928516003704476137795166849228875"
      ]
     },
     "execution_count": 35,
     "metadata": {},
     "output_type": "execute_result"
    }
   ],
   "source": [
    "fib_tab(1000)"
   ]
  },
  {
   "cell_type": "code",
   "execution_count": 53,
   "metadata": {},
   "outputs": [],
   "source": [
    "def count_zeroes(lst):\n",
    "    \n",
    "    if not lst:\n",
    "        return 0\n",
    "    elif lst[0] == 0:\n",
    "        return len(lst)\n",
    "    elif lst[-1] == 1:\n",
    "        return 0\n",
    "    \n",
    "    current_idx = 0\n",
    "    one_idx = 0\n",
    "    zero_idx = len(lst) - 1\n",
    "    while True:\n",
    "        if zero_idx - one_idx == 1:\n",
    "            return len(lst) - zero_idx\n",
    "        if lst[current_idx] == 0:\n",
    "            zero_idx = current_idx\n",
    "            current_idx = int((current_idx - one_idx)/2) + one_idx\n",
    "        else:\n",
    "            one_idx = current_idx\n",
    "            current_idx = int((zero_idx - current_idx)/2) + current_idx \n",
    "                        \n",
    "                \n",
    "            "
   ]
  },
  {
   "cell_type": "code",
   "execution_count": null,
   "metadata": {},
   "outputs": [],
   "source": []
  },
  {
   "cell_type": "code",
   "execution_count": 142,
   "metadata": {},
   "outputs": [],
   "source": [
    "def sorted_freq(lst, num):\n",
    "     \n",
    "    if not lst:\n",
    "        return -1\n",
    "    \n",
    "    start_idx = search_idx(lst, num, 'start')\n",
    "    end_idx = search_idx(lst, num, 'end')\n",
    "    \n",
    "    if all([isinstance(idx, int) for idx in [start_idx, end_idx]]):\n",
    "        return end_idx - start_idx + 1\n",
    "    else:\n",
    "        return -1"
   ]
  },
  {
   "cell_type": "code",
   "execution_count": 56,
   "metadata": {},
   "outputs": [],
   "source": [
    "def _search_idx(lst, num, position = 'start'):\n",
    "    \n",
    "    idx = None\n",
    "    idx_end = False\n",
    "    \n",
    "    if lst[-1] == num:\n",
    "        idx = len(lst) - 1\n",
    "        idx_end = True\n",
    "        \n",
    "        \n",
    "    left = 0\n",
    "    right = len(lst) - 1\n",
    "        \n",
    "    while True:\n",
    "#         print('--------------------------------')\n",
    "        current_idx = int((right - left)/2) + left\n",
    "#         print('left: ', left, 'right: ', right, 'current_idx:', current_idx)\n",
    "\n",
    "        if lst[current_idx] == num:\n",
    "            \n",
    "            \n",
    "            if position == 'start':\n",
    "                idx = current_idx\n",
    "                right = current_idx\n",
    "            elif position == 'end':\n",
    "                if not idx_end:\n",
    "                    idx = current_idx\n",
    "                left = current_idx\n",
    "#             print('idx: ', idx)\n",
    "        elif lst[current_idx] < num:\n",
    "            left = current_idx\n",
    "        else:\n",
    "            right = current_idx\n",
    "            \n",
    "        if current_idx in [0, len(lst) - 2]:\n",
    "#             print(f'border reached current_idx is {current_idx}')\n",
    "            break\n",
    "        elif right - left == 1 and left > 0 and right < len(lst)-1:\n",
    "#             print('right - left trigger')\n",
    "            break\n",
    "    \n",
    "#     print(f'FINAL {position} idx:', idx)\n",
    "    \n",
    "    return idx"
   ]
  },
  {
   "cell_type": "code",
   "execution_count": 90,
   "metadata": {},
   "outputs": [],
   "source": [
    "def _rotated_index(lst):\n",
    "    \n",
    "    first_element = lst[0]\n",
    "        \n",
    "    left_edge = 0\n",
    "    right_edge = len(lst) - 1\n",
    "        \n",
    "    while True:\n",
    "        current_idx = int((right_edge - left_edge)/2) + left_edge\n",
    "        if lst[current_idx - 1] > lst[current_idx]:\n",
    "            return current_idx\n",
    "        elif lst[current_idx] > lst[current_idx + 1]:\n",
    "            return current_idx + 1\n",
    "        else:\n",
    "            if lst[current_idx]  > first_element:\n",
    "                left_edge = current_idx\n",
    "            elif lst[current_idx] < first_element:\n",
    "                right_edge = current_idx\n",
    "            \n",
    "            \n",
    "        if current_idx in [1, len(lst) - 2]:\n",
    "            break\n",
    "    \n",
    "    return None"
   ]
  },
  {
   "cell_type": "code",
   "execution_count": 91,
   "metadata": {},
   "outputs": [],
   "source": [
    "def find_rotated_index(lst, num):\n",
    "    \n",
    "    if not lst:\n",
    "        return None\n",
    "    \n",
    "    rotated_idx = _rotated_index(lst)\n",
    "    print('rotated_idx: ', rotated_idx)\n",
    "    \n",
    "    if not rotated_idx:\n",
    "        return None\n",
    "    \n",
    "    last_ = lst[-1]\n",
    "    \n",
    "    sorted_lst = lst[rotated_idx:] + lst[:rotated_idx]\n",
    "    print('sorted_lst: ', sorted_lst)\n",
    "    \n",
    "    sorted_idx = _search_idx(sorted_lst, num)\n",
    "    offset_left = len(lst[rotated_idx:])\n",
    "    offset_right = len(lst[:rotated_idx])\n",
    "    print('sorted_idx: ', sorted_idx, 'offset_left: ', offset_left, 'offset_right: ', offset_right)\n",
    "    \n",
    "    if sorted_idx == None:\n",
    "        return -1\n",
    "    \n",
    "    if num <= lst[-1]:\n",
    "        idx = sorted_idx + offset_right\n",
    "    else:\n",
    "        idx = sorted_idx - offset_left\n",
    "    \n",
    "    return idx\n",
    "    "
   ]
  },
  {
   "cell_type": "code",
   "execution_count": 92,
   "metadata": {},
   "outputs": [
    {
     "name": "stdout",
     "output_type": "stream",
     "text": [
      "rotated_idx:  6\n",
      "sorted_lst:  [3, 5, 7, 9, 11, 12, 13, 14, 15, 16]\n",
      "sorted_idx:  1 offset_left:  4 offset_right:  6\n"
     ]
    },
    {
     "data": {
      "text/plain": [
       "7"
      ]
     },
     "execution_count": 92,
     "metadata": {},
     "output_type": "execute_result"
    }
   ],
   "source": [
    "find_rotated_index([11,12,13,14,15,16,3,5,7,9],5)"
   ]
  },
  {
   "cell_type": "code",
   "execution_count": 93,
   "metadata": {},
   "outputs": [
    {
     "name": "stdout",
     "output_type": "stream",
     "text": [
      "rotated_idx:  2\n",
      "sorted_lst:  [1, 2, 3, 4]\n",
      "sorted_idx:  1 offset_left:  2 offset_right:  2\n"
     ]
    },
    {
     "data": {
      "text/plain": [
       "3"
      ]
     },
     "execution_count": 93,
     "metadata": {},
     "output_type": "execute_result"
    }
   ],
   "source": [
    "find_rotated_index([3,4,1,2], 2)"
   ]
  },
  {
   "cell_type": "code",
   "execution_count": 94,
   "metadata": {},
   "outputs": [
    {
     "name": "stdout",
     "output_type": "stream",
     "text": [
      "rotated_idx:  4\n",
      "sorted_lst:  [10, 22, 37, 44, 66, 102]\n",
      "sorted_idx:  None offset_left:  2 offset_right:  4\n"
     ]
    },
    {
     "data": {
      "text/plain": [
       "-1"
      ]
     },
     "execution_count": 94,
     "metadata": {},
     "output_type": "execute_result"
    }
   ],
   "source": [
    "find_rotated_index([37,44,66,102,10,22], 20)"
   ]
  },
  {
   "cell_type": "code",
   "execution_count": 89,
   "metadata": {},
   "outputs": [
    {
     "ename": "TypeError",
     "evalue": "find_rotated_index() missing 1 required positional argument: 'num'",
     "output_type": "error",
     "traceback": [
      "\u001b[0;31m---------------------------------------------------------------------------\u001b[0m",
      "\u001b[0;31mTypeError\u001b[0m                                 Traceback (most recent call last)",
      "\u001b[0;32m<ipython-input-89-b9cf53f3e467>\u001b[0m in \u001b[0;36m<module>\u001b[0;34m\u001b[0m\n\u001b[0;32m----> 1\u001b[0;31m \u001b[0mfind_rotated_index\u001b[0m\u001b[0;34m(\u001b[0m\u001b[0;34m[\u001b[0m\u001b[0;36m11\u001b[0m\u001b[0;34m,\u001b[0m\u001b[0;36m12\u001b[0m\u001b[0;34m,\u001b[0m\u001b[0;36m13\u001b[0m\u001b[0;34m,\u001b[0m\u001b[0;36m14\u001b[0m\u001b[0;34m,\u001b[0m\u001b[0;36m15\u001b[0m\u001b[0;34m,\u001b[0m\u001b[0;36m16\u001b[0m\u001b[0;34m]\u001b[0m\u001b[0;34m)\u001b[0m\u001b[0;34m\u001b[0m\u001b[0;34m\u001b[0m\u001b[0m\n\u001b[0m",
      "\u001b[0;31mTypeError\u001b[0m: find_rotated_index() missing 1 required positional argument: 'num'"
     ]
    }
   ],
   "source": [
    "find_rotated_index([11,12,13,14,15,16])"
   ]
  },
  {
   "cell_type": "code",
   "execution_count": 98,
   "metadata": {},
   "outputs": [],
   "source": [
    "import numpy as np"
   ]
  },
  {
   "cell_type": "code",
   "execution_count": 125,
   "metadata": {},
   "outputs": [],
   "source": [
    "def coin_change(coins, num):\n",
    "    \n",
    "    total_combinations = np.zeros([len(coins)+1, num+1], dtype = int)\n",
    "    total_combinations[:, 0] = 1\n",
    "    \n",
    "    for i in range(1, len(coins)+1):\n",
    "        for j in range(1, num+1):\n",
    "            if coins[i-1] <= j:\n",
    "                total_combinations[i, j] = total_combinations[i-1, j] + total_combinations[i, j-coins[i-1]]\n",
    "            else:\n",
    "                total_combinations[i, j] = total_combinations[i-1, j]\n",
    "    \n",
    "    \n",
    "    return total_combinations[-1, -1]"
   ]
  },
  {
   "cell_type": "code",
   "execution_count": 126,
   "metadata": {},
   "outputs": [
    {
     "data": {
      "text/plain": [
       "4"
      ]
     },
     "execution_count": 126,
     "metadata": {},
     "output_type": "execute_result"
    }
   ],
   "source": [
    "coin_change([1,2,5], 5)"
   ]
  },
  {
   "cell_type": "code",
   "execution_count": 127,
   "metadata": {},
   "outputs": [
    {
     "data": {
      "text/plain": [
       "39"
      ]
     },
     "execution_count": 127,
     "metadata": {},
     "output_type": "execute_result"
    }
   ],
   "source": [
    "coin_change([1,5,10,25], 45)"
   ]
  },
  {
   "cell_type": "code",
   "execution_count": 128,
   "metadata": {},
   "outputs": [
    {
     "data": {
      "text/plain": [
       "242"
      ]
     },
     "execution_count": 128,
     "metadata": {},
     "output_type": "execute_result"
    }
   ],
   "source": [
    "coin_change([1,5,10,25], 100)"
   ]
  },
  {
   "cell_type": "code",
   "execution_count": 129,
   "metadata": {},
   "outputs": [
    {
     "data": {
      "text/plain": [
       "409222339"
      ]
     },
     "execution_count": 129,
     "metadata": {},
     "output_type": "execute_result"
    }
   ],
   "source": [
    "coin_change([1,5,10,25], 14511)"
   ]
  },
  {
   "cell_type": "code",
   "execution_count": 131,
   "metadata": {},
   "outputs": [
    {
     "data": {
      "text/plain": [
       "1"
      ]
     },
     "execution_count": 131,
     "metadata": {},
     "output_type": "execute_result"
    }
   ],
   "source": [
    "coin_change([1], 6)"
   ]
  },
  {
   "cell_type": "code",
   "execution_count": 132,
   "metadata": {},
   "outputs": [
    {
     "data": {
      "text/plain": [
       "'/home/kvl/anaconda3/bin/python'"
      ]
     },
     "execution_count": 132,
     "metadata": {},
     "output_type": "execute_result"
    }
   ],
   "source": [
    "import sys\n",
    "sys.executable"
   ]
  },
  {
   "cell_type": "code",
   "execution_count": 133,
   "metadata": {},
   "outputs": [],
   "source": [
    "def min_coin_change(coins, value, change = {}):\n",
    "    \n",
    "    if value in change:\n",
    "        return change[value]\n",
    "    \n",
    "    for coin in coins:\n",
    "        if value >= coin:\n",
    "            min_coin_change(denominations, value - coin)\n",
    "            \n",
    "        if value == 0:\n",
    "            n += 1\n",
    "            return n"
   ]
  },
  {
   "cell_type": "code",
   "execution_count": 164,
   "metadata": {},
   "outputs": [],
   "source": [
    "def _coin_change(coins, value, change = {}):\n",
    "    print('value: ', value)\n",
    "    \n",
    "    if value in change:\n",
    "        return change[value]\n",
    "    \n",
    "    for coin in coins[::-1]:\n",
    "        print('coin: ', coin)\n",
    "        if value - coin == 0:\n",
    "            print('reached btm. change: ', change)\n",
    "            print('--------------------')\n",
    "            return None\n",
    "        elif value - coin > 0:\n",
    "            num = n\n",
    "            res = _coin_change(coins, value - coin, change)\n",
    "            if res:\n",
    "                change[value-coin] = res\n",
    "        elif value - coin < 0:\n",
    "            print('Dead end')\n",
    "            print('------------------')\n",
    "            return None\n",
    "    \n",
    "    return \n",
    "            "
   ]
  },
  {
   "cell_type": "code",
   "execution_count": 165,
   "metadata": {},
   "outputs": [
    {
     "name": "stdout",
     "output_type": "stream",
     "text": [
      "n:  0 value:  11\n",
      "coin:  5\n",
      "n:  1 value:  6\n",
      "coin:  5\n",
      "n:  2 value:  1\n",
      "coin:  5\n",
      "Dead end\n",
      "------------------\n",
      "coin:  2\n",
      "Dead end\n",
      "------------------\n",
      "coin:  1\n",
      "reached btm. change:  {1: 3}\n",
      "--------------------\n",
      "coin:  2\n",
      "n:  2 value:  4\n",
      "coin:  5\n",
      "Dead end\n",
      "------------------\n",
      "coin:  2\n",
      "n:  3 value:  2\n",
      "coin:  5\n",
      "Dead end\n",
      "------------------\n",
      "coin:  2\n",
      "reached btm. change:  {1: 3, 2: 4}\n",
      "--------------------\n",
      "coin:  1\n",
      "n:  4 value:  1\n",
      "coin:  1\n",
      "n:  3 value:  3\n",
      "coin:  5\n",
      "Dead end\n",
      "------------------\n",
      "coin:  2\n",
      "n:  4 value:  1\n",
      "coin:  1\n",
      "n:  4 value:  2\n",
      "coin:  1\n",
      "n:  2 value:  5\n",
      "coin:  5\n",
      "reached btm. change:  {1: 3, 2: 4, 5: 3}\n",
      "--------------------\n",
      "coin:  2\n",
      "n:  3 value:  3\n",
      "coin:  5\n",
      "Dead end\n",
      "------------------\n",
      "coin:  2\n",
      "n:  4 value:  1\n",
      "coin:  1\n",
      "n:  4 value:  2\n",
      "coin:  1\n",
      "n:  3 value:  4\n",
      "coin:  5\n",
      "Dead end\n",
      "------------------\n",
      "coin:  2\n",
      "n:  4 value:  2\n",
      "coin:  1\n",
      "n:  4 value:  3\n",
      "coin:  5\n",
      "Dead end\n",
      "------------------\n",
      "coin:  2\n",
      "n:  5 value:  1\n",
      "coin:  1\n",
      "n:  5 value:  2\n",
      "coin:  2\n",
      "n:  1 value:  9\n",
      "coin:  5\n",
      "n:  2 value:  4\n",
      "coin:  5\n",
      "Dead end\n",
      "------------------\n",
      "coin:  2\n",
      "n:  3 value:  2\n",
      "coin:  1\n",
      "n:  3 value:  3\n",
      "coin:  5\n",
      "Dead end\n",
      "------------------\n",
      "coin:  2\n",
      "n:  4 value:  1\n",
      "coin:  1\n",
      "n:  4 value:  2\n",
      "coin:  2\n",
      "n:  2 value:  7\n",
      "coin:  5\n",
      "n:  3 value:  2\n",
      "coin:  2\n",
      "n:  3 value:  5\n",
      "coin:  1\n",
      "n:  3 value:  6\n",
      "coin:  5\n",
      "n:  4 value:  1\n",
      "coin:  2\n",
      "n:  4 value:  4\n",
      "coin:  5\n",
      "Dead end\n",
      "------------------\n",
      "coin:  2\n",
      "n:  5 value:  2\n",
      "coin:  1\n",
      "n:  5 value:  3\n",
      "coin:  5\n",
      "Dead end\n",
      "------------------\n",
      "coin:  2\n",
      "n:  6 value:  1\n",
      "coin:  1\n",
      "n:  6 value:  2\n",
      "coin:  1\n",
      "n:  4 value:  5\n",
      "coin:  1\n",
      "n:  2 value:  8\n",
      "coin:  5\n",
      "n:  3 value:  3\n",
      "coin:  5\n",
      "Dead end\n",
      "------------------\n",
      "coin:  2\n",
      "n:  4 value:  1\n",
      "coin:  1\n",
      "n:  4 value:  2\n",
      "coin:  2\n",
      "n:  3 value:  6\n",
      "coin:  5\n",
      "n:  4 value:  1\n",
      "coin:  2\n",
      "n:  4 value:  4\n",
      "coin:  5\n",
      "Dead end\n",
      "------------------\n",
      "coin:  2\n",
      "n:  5 value:  2\n",
      "coin:  1\n",
      "n:  5 value:  3\n",
      "coin:  5\n",
      "Dead end\n",
      "------------------\n",
      "coin:  2\n",
      "n:  6 value:  1\n",
      "coin:  1\n",
      "n:  6 value:  2\n",
      "coin:  1\n",
      "n:  4 value:  5\n",
      "coin:  1\n",
      "n:  3 value:  7\n",
      "coin:  5\n",
      "n:  4 value:  2\n",
      "coin:  2\n",
      "n:  4 value:  5\n",
      "coin:  1\n",
      "n:  4 value:  6\n",
      "coin:  5\n",
      "n:  5 value:  1\n",
      "coin:  2\n",
      "n:  5 value:  4\n",
      "coin:  5\n",
      "Dead end\n",
      "------------------\n",
      "coin:  2\n",
      "n:  6 value:  2\n",
      "coin:  1\n",
      "n:  6 value:  3\n",
      "coin:  5\n",
      "Dead end\n",
      "------------------\n",
      "coin:  2\n",
      "n:  7 value:  1\n",
      "coin:  1\n",
      "n:  7 value:  2\n",
      "coin:  1\n",
      "n:  5 value:  5\n",
      "coin:  1\n",
      "n:  1 value:  10\n",
      "coin:  5\n",
      "n:  2 value:  5\n",
      "coin:  2\n",
      "n:  2 value:  8\n",
      "coin:  5\n",
      "n:  3 value:  3\n",
      "coin:  5\n",
      "Dead end\n",
      "------------------\n",
      "coin:  2\n",
      "n:  4 value:  1\n",
      "coin:  1\n",
      "n:  4 value:  2\n",
      "coin:  2\n",
      "n:  3 value:  6\n",
      "coin:  5\n",
      "n:  4 value:  1\n",
      "coin:  2\n",
      "n:  4 value:  4\n",
      "coin:  5\n",
      "Dead end\n",
      "------------------\n",
      "coin:  2\n",
      "n:  5 value:  2\n",
      "coin:  1\n",
      "n:  5 value:  3\n",
      "coin:  5\n",
      "Dead end\n",
      "------------------\n",
      "coin:  2\n",
      "n:  6 value:  1\n",
      "coin:  1\n",
      "n:  6 value:  2\n",
      "coin:  1\n",
      "n:  4 value:  5\n",
      "coin:  1\n",
      "n:  3 value:  7\n",
      "coin:  5\n",
      "n:  4 value:  2\n",
      "coin:  2\n",
      "n:  4 value:  5\n",
      "coin:  1\n",
      "n:  4 value:  6\n",
      "coin:  5\n",
      "n:  5 value:  1\n",
      "coin:  2\n",
      "n:  5 value:  4\n",
      "coin:  5\n",
      "Dead end\n",
      "------------------\n",
      "coin:  2\n",
      "n:  6 value:  2\n",
      "coin:  1\n",
      "n:  6 value:  3\n",
      "coin:  5\n",
      "Dead end\n",
      "------------------\n",
      "coin:  2\n",
      "n:  7 value:  1\n",
      "coin:  1\n",
      "n:  7 value:  2\n",
      "coin:  1\n",
      "n:  5 value:  5\n",
      "coin:  1\n",
      "n:  2 value:  9\n",
      "coin:  5\n",
      "n:  3 value:  4\n",
      "coin:  5\n",
      "Dead end\n",
      "------------------\n",
      "coin:  2\n",
      "n:  4 value:  2\n",
      "coin:  1\n",
      "n:  4 value:  3\n",
      "coin:  5\n",
      "Dead end\n",
      "------------------\n",
      "coin:  2\n",
      "n:  5 value:  1\n",
      "coin:  1\n",
      "n:  5 value:  2\n",
      "coin:  2\n",
      "n:  3 value:  7\n",
      "coin:  5\n",
      "n:  4 value:  2\n",
      "coin:  2\n",
      "n:  4 value:  5\n",
      "coin:  1\n",
      "n:  4 value:  6\n",
      "coin:  5\n",
      "n:  5 value:  1\n",
      "coin:  2\n",
      "n:  5 value:  4\n",
      "coin:  5\n",
      "Dead end\n",
      "------------------\n",
      "coin:  2\n",
      "n:  6 value:  2\n",
      "coin:  1\n",
      "n:  6 value:  3\n",
      "coin:  5\n",
      "Dead end\n",
      "------------------\n",
      "coin:  2\n",
      "n:  7 value:  1\n",
      "coin:  1\n",
      "n:  7 value:  2\n",
      "coin:  1\n",
      "n:  5 value:  5\n",
      "coin:  1\n",
      "n:  3 value:  8\n",
      "coin:  5\n",
      "n:  4 value:  3\n",
      "coin:  5\n",
      "Dead end\n",
      "------------------\n",
      "coin:  2\n",
      "n:  5 value:  1\n",
      "coin:  1\n",
      "n:  5 value:  2\n",
      "coin:  2\n",
      "n:  4 value:  6\n",
      "coin:  5\n",
      "n:  5 value:  1\n",
      "coin:  2\n",
      "n:  5 value:  4\n",
      "coin:  5\n",
      "Dead end\n",
      "------------------\n",
      "coin:  2\n",
      "n:  6 value:  2\n",
      "coin:  1\n",
      "n:  6 value:  3\n",
      "coin:  5\n",
      "Dead end\n",
      "------------------\n",
      "coin:  2\n",
      "n:  7 value:  1\n",
      "coin:  1\n",
      "n:  7 value:  2\n",
      "coin:  1\n",
      "n:  5 value:  5\n",
      "coin:  1\n",
      "n:  4 value:  7\n",
      "coin:  5\n",
      "n:  5 value:  2\n",
      "coin:  2\n",
      "n:  5 value:  5\n",
      "coin:  1\n",
      "n:  5 value:  6\n",
      "coin:  5\n",
      "n:  6 value:  1\n",
      "coin:  2\n",
      "n:  6 value:  4\n",
      "coin:  5\n",
      "Dead end\n",
      "------------------\n",
      "coin:  2\n",
      "n:  7 value:  2\n",
      "coin:  1\n",
      "n:  7 value:  3\n",
      "coin:  5\n",
      "Dead end\n",
      "------------------\n",
      "coin:  2\n",
      "n:  8 value:  1\n",
      "coin:  1\n",
      "n:  8 value:  2\n",
      "coin:  1\n",
      "n:  6 value:  5\n"
     ]
    },
    {
     "data": {
      "text/plain": [
       "{1: 3, 2: 4, 5: 3}"
      ]
     },
     "execution_count": 165,
     "metadata": {},
     "output_type": "execute_result"
    }
   ],
   "source": [
    "_coin_change([1,2,5], 11)"
   ]
  },
  {
   "cell_type": "code",
   "execution_count": 136,
   "metadata": {},
   "outputs": [],
   "source": [
    "a.reverse()"
   ]
  },
  {
   "cell_type": "code",
   "execution_count": 137,
   "metadata": {},
   "outputs": [
    {
     "data": {
      "text/plain": [
       "[3, 2, 1]"
      ]
     },
     "execution_count": 137,
     "metadata": {},
     "output_type": "execute_result"
    }
   ],
   "source": [
    "a"
   ]
  },
  {
   "cell_type": "code",
   "execution_count": 138,
   "metadata": {},
   "outputs": [
    {
     "data": {
      "text/plain": [
       "[1, 2, 3]"
      ]
     },
     "execution_count": 138,
     "metadata": {},
     "output_type": "execute_result"
    }
   ],
   "source": [
    "a[::-1]"
   ]
  },
  {
   "cell_type": "code",
   "execution_count": 141,
   "metadata": {},
   "outputs": [
    {
     "name": "stdout",
     "output_type": "stream",
     "text": [
      "3\n",
      "2\n",
      "1\n"
     ]
    }
   ],
   "source": [
    "for char in a[::-1]:\n",
    "    print(char)"
   ]
  },
  {
   "cell_type": "code",
   "execution_count": 181,
   "metadata": {},
   "outputs": [],
   "source": [
    "def min_coin_change(coins, value):\n",
    "    \n",
    "    min_coins_lst = [np.inf] * (value +1)\n",
    "    min_coins_lst[0] = 0\n",
    "    \n",
    "    for i in range(1, len(min_coins_lst)):\n",
    "        for coin in coins:\n",
    "            if coin <= i:\n",
    "                min_coins_lst[i] = min(min_coins_lst[i-coin] + 1, min_coins_lst[i])\n",
    "    \n",
    "    if min_coins_lst[-1] < np.inf:\n",
    "        return min_coins_lst[-1]\n",
    "    else:\n",
    "        return -1"
   ]
  },
  {
   "cell_type": "code",
   "execution_count": 182,
   "metadata": {},
   "outputs": [
    {
     "data": {
      "text/plain": [
       "3"
      ]
     },
     "execution_count": 182,
     "metadata": {},
     "output_type": "execute_result"
    }
   ],
   "source": [
    "min_coin_change([1,2,5], 11)"
   ]
  },
  {
   "cell_type": "code",
   "execution_count": 183,
   "metadata": {},
   "outputs": [
    {
     "data": {
      "text/plain": [
       "6"
      ]
     },
     "execution_count": 183,
     "metadata": {},
     "output_type": "execute_result"
    }
   ],
   "source": [
    "min_coin_change([1,2,5,10], 46)"
   ]
  },
  {
   "cell_type": "code",
   "execution_count": null,
   "metadata": {},
   "outputs": [],
   "source": []
  }
 ],
 "metadata": {
  "kernelspec": {
   "display_name": "Python 3",
   "language": "python",
   "name": "python3"
  },
  "language_info": {
   "codemirror_mode": {
    "name": "ipython",
    "version": 3
   },
   "file_extension": ".py",
   "mimetype": "text/x-python",
   "name": "python",
   "nbconvert_exporter": "python",
   "pygments_lexer": "ipython3",
   "version": "3.7.6"
  }
 },
 "nbformat": 4,
 "nbformat_minor": 2
}
