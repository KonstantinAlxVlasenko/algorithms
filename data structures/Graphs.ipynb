{
 "cells": [
  {
   "cell_type": "markdown",
   "metadata": {},
   "source": [
    "# Graphs\n",
    "\n",
    "### A graph data structure consists of a finite (and possibly mutable) set of vertices or nodes or points, together with a set of unordered pairs of these vertices for an undirected graph or a set of ordered pairs of directed graph"
   ]
  },
  {
   "cell_type": "code",
   "execution_count": 81,
   "metadata": {},
   "outputs": [],
   "source": [
    "class Graph:\n",
    "    \n",
    "    def __init__(self):\n",
    "        \n",
    "        self.adjacency_dct = {}\n",
    "        \n",
    "    \n",
    "    def add_vertex(self, vertex):\n",
    "        \"\"\"\n",
    "        Method to add vertex. Acceppts a name of a vertex.\n",
    "        Adds a key to adjacency list with the name of the vertex\n",
    "        and sets its value to be an empty dictionary.\n",
    "        \"\"\"\n",
    "        \n",
    "        if not self.adjacency_dct.get(vertex): \n",
    "            self.adjacency_dct[vertex] = []\n",
    "        \n",
    "    \n",
    "    def add_edge(self, vertex1, vertex2):\n",
    "        \"\"\"\n",
    "        Method accepts two vertices. It finds in the adjacency list \n",
    "        the key of vertex1 and append vertex2 to the list and \n",
    "        vice versa\n",
    "        \"\"\"\n",
    "        \n",
    "        # check if both vertexes exist \n",
    "        if vertex1 in self.adjacency_dct and vertex2 in self.adjacency_dct:\n",
    "            self.adjacency_dct[vertex1].append(vertex2)\n",
    "            self.adjacency_dct[vertex2].append(vertex1)\n",
    "            \n",
    "    \n",
    "    def remove_edge(self, vertex1, vertex2):\n",
    "        \"\"\"\n",
    "        Method accepts two vertices. It reassign the key of vertex1\n",
    "        to be a list that does not contain vertex2 and the key of\n",
    "        vertex2 to be a list that does not contain vertex1\n",
    "        \"\"\"\n",
    "        \n",
    "        vertex1_edge = self.adjacency_dct.get(vertex1)\n",
    "        vertex2_edge = self.adjacency_dct.get(vertex2)\n",
    "        \n",
    "        # check if both vertices exist \n",
    "        if vertex1_edge and vertex2_edge:\n",
    "            # check if vertexes have edges\n",
    "            if vertex2 in vertex1_edge and vertex1 in vertex2_edge:\n",
    "                self.adjacency_dct[vertex1].remove(vertex2)\n",
    "                self.adjacency_dct[vertex2].remove(vertex1)\n",
    "                \n",
    "                \n",
    "    def remove_vertex(self, vertex):\n",
    "        \"\"\"\n",
    "        Method accepts a vertex to remove.\n",
    "        Method removes edges containing the vertex and then\n",
    "        removes vertex\n",
    "        \"\"\"\n",
    "        \n",
    "#         # check if vertex exist\n",
    "#         if vertex in self.adjacency_dct:\n",
    "#             for k, v in self.adjacency_dct.items():\n",
    "#                 if vertex in v:\n",
    "#                     self.adjacency_dct[k].remove(vertex)\n",
    "#             del self.adjacency_dct[vertex]\n",
    "            \n",
    "        for adjacency_vertex in self.adjacency_dct.keys():\n",
    "            self.remove_edge(vertex, adjacency_vertex)\n",
    "        del self.adjacency_dct[vertex]\n",
    "                    \n",
    "            \n",
    "            \n",
    "        \n",
    "        \n",
    "        \n",
    "        \n",
    "        "
   ]
  },
  {
   "cell_type": "code",
   "execution_count": 72,
   "metadata": {},
   "outputs": [],
   "source": [
    "g = Graph()"
   ]
  },
  {
   "cell_type": "code",
   "execution_count": 73,
   "metadata": {},
   "outputs": [],
   "source": [
    "g.add_vertex('Tokyo')"
   ]
  },
  {
   "cell_type": "code",
   "execution_count": 80,
   "metadata": {},
   "outputs": [
    {
     "data": {
      "text/plain": [
       "{'Seoul': ['Aspen'], 'Aspen': ['Seoul']}"
      ]
     },
     "execution_count": 80,
     "metadata": {},
     "output_type": "execute_result"
    }
   ],
   "source": [
    "g.adjacency_dct"
   ]
  },
  {
   "cell_type": "code",
   "execution_count": 74,
   "metadata": {},
   "outputs": [],
   "source": [
    "g.add_vertex('Seoul')"
   ]
  },
  {
   "cell_type": "code",
   "execution_count": 75,
   "metadata": {},
   "outputs": [],
   "source": [
    "g.add_edge('Tokyo', 'Seoul')"
   ]
  },
  {
   "cell_type": "code",
   "execution_count": 76,
   "metadata": {},
   "outputs": [],
   "source": [
    "g.add_vertex('Aspen')"
   ]
  },
  {
   "cell_type": "code",
   "execution_count": 77,
   "metadata": {},
   "outputs": [],
   "source": [
    "g.add_edge('Seoul', 'Aspen')"
   ]
  },
  {
   "cell_type": "code",
   "execution_count": 65,
   "metadata": {},
   "outputs": [],
   "source": [
    "g.remove_edge('SDD', 'ddsd')"
   ]
  },
  {
   "cell_type": "code",
   "execution_count": 66,
   "metadata": {},
   "outputs": [],
   "source": [
    "g.remove_edge('Tokyo', 'Aspen')"
   ]
  },
  {
   "cell_type": "code",
   "execution_count": 53,
   "metadata": {},
   "outputs": [],
   "source": [
    "g.remove_edge('Tokyo', 'Seoul')"
   ]
  },
  {
   "cell_type": "code",
   "execution_count": 55,
   "metadata": {},
   "outputs": [],
   "source": [
    "d = {'d': [1,2], 'f': [8,9]}"
   ]
  },
  {
   "cell_type": "code",
   "execution_count": 57,
   "metadata": {},
   "outputs": [
    {
     "data": {
      "text/plain": [
       "dict_values([[1, 2], [8, 9]])"
      ]
     },
     "execution_count": 57,
     "metadata": {},
     "output_type": "execute_result"
    }
   ],
   "source": [
    "d.values()"
   ]
  },
  {
   "cell_type": "code",
   "execution_count": 79,
   "metadata": {},
   "outputs": [],
   "source": [
    "g.remove_vertex('Tokyo')"
   ]
  },
  {
   "cell_type": "code",
   "execution_count": null,
   "metadata": {},
   "outputs": [],
   "source": []
  }
 ],
 "metadata": {
  "kernelspec": {
   "display_name": "Python 3",
   "language": "python",
   "name": "python3"
  },
  "language_info": {
   "codemirror_mode": {
    "name": "ipython",
    "version": 3
   },
   "file_extension": ".py",
   "mimetype": "text/x-python",
   "name": "python",
   "nbconvert_exporter": "python",
   "pygments_lexer": "ipython3",
   "version": "3.7.6"
  }
 },
 "nbformat": 4,
 "nbformat_minor": 2
}
