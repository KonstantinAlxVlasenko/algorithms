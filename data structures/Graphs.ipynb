{
 "cells": [
  {
   "cell_type": "markdown",
   "metadata": {},
   "source": [
    "# Graphs\n",
    "\n",
    "### A graph data structure consists of a finite (and possibly mutable) set of vertices or nodes or points, together with a set of unordered pairs of these vertices for an undirected graph or a set of ordered pairs of directed graph"
   ]
  },
  {
   "cell_type": "code",
   "execution_count": 1,
   "metadata": {},
   "outputs": [],
   "source": [
    "import networkx as nx\n",
    "import numpy as np\n",
    "import matplotlib.pyplot as plt"
   ]
  },
  {
   "cell_type": "code",
   "execution_count": 2,
   "metadata": {},
   "outputs": [],
   "source": [
    "class Graph:\n",
    "    \n",
    "    def __init__(self):\n",
    "        \n",
    "        self.adjacency_dct = {}\n",
    "        \n",
    "    \n",
    "    def add_vertex(self, vertex):\n",
    "        \"\"\"\n",
    "        Method to add vertex. Acceppts a name of a vertex.\n",
    "        Adds a key to adjacency list with the name of the vertex\n",
    "        and sets its value to be an empty dictionary.\n",
    "        \"\"\"\n",
    "        \n",
    "        if not self.adjacency_dct.get(vertex): \n",
    "            self.adjacency_dct[vertex] = []\n",
    "        \n",
    "    \n",
    "    def add_edge(self, vertex1, vertex2):\n",
    "        \"\"\"\n",
    "        Method accepts two vertices. It finds in the adjacency list \n",
    "        the key of vertex1 and append vertex2 to the list and \n",
    "        vice versa\n",
    "        \"\"\"\n",
    "        \n",
    "        # check if both vertexes exist \n",
    "        if vertex1 in self.adjacency_dct and vertex2 in self.adjacency_dct:\n",
    "            self.adjacency_dct[vertex1].append(vertex2)\n",
    "            self.adjacency_dct[vertex2].append(vertex1)\n",
    "            \n",
    "    \n",
    "    def remove_edge(self, vertex1, vertex2):\n",
    "        \"\"\"\n",
    "        Method accepts two vertices. It reassign the key of vertex1\n",
    "        to be a list that does not contain vertex2 and the key of\n",
    "        vertex2 to be a list that does not contain vertex1\n",
    "        \"\"\"\n",
    "        \n",
    "        vertex1_edge = self.adjacency_dct.get(vertex1)\n",
    "        vertex2_edge = self.adjacency_dct.get(vertex2)\n",
    "        \n",
    "        # check if both vertices exist \n",
    "        if vertex1_edge and vertex2_edge:\n",
    "            # check if vertexes have edges\n",
    "            if vertex2 in vertex1_edge and vertex1 in vertex2_edge:\n",
    "                self.adjacency_dct[vertex1].remove(vertex2)\n",
    "                self.adjacency_dct[vertex2].remove(vertex1)\n",
    "                \n",
    "                \n",
    "    def remove_vertex(self, vertex):\n",
    "        \"\"\"\n",
    "        Method accepts a vertex to remove.\n",
    "        Method removes edges containing the vertex and then\n",
    "        removes vertex\n",
    "        \"\"\"\n",
    "            \n",
    "        for adjacency_vertex in self.adjacency_dct.keys():\n",
    "            self.remove_edge(vertex, adjacency_vertex)\n",
    "        del self.adjacency_dct[vertex]\n",
    "        \n",
    "        \n",
    "    def graph(self):\n",
    "        \n",
    "        \"\"\"Builds graph \"\"\"\n",
    "        \n",
    "        if not self.adjacency_dct:\n",
    "            return None\n",
    "        \n",
    "        gr = nx.Graph()\n",
    "        gr.add_nodes_from(self.adjacency_dct.keys())\n",
    "        for vertex, edges in self.adjacency_dct.items():\n",
    "            for edge in edges:\n",
    "                gr.add_edge(vertex, edge)\n",
    "        print(\"Nodes of graph: \", gr.nodes())\n",
    "        nx.draw(gr, with_labels = True)\n",
    "        plt.show()\n",
    "        \n",
    "    \n",
    "    def depth_first_recursive(self, start_vertex):\n",
    "        \"\"\"\n",
    "        Depth First Traversal Recursive. \n",
    "        Function accepts starting point\n",
    "        \"\"\"\n",
    "        # list to store the end result, to be returned\n",
    "        result = []\n",
    "        # dct to sore visited vertices\n",
    "        visited = {}\n",
    "        \n",
    "        def dfs(vertex):\n",
    "            \"\"\"\n",
    "            Helper function which accepts a vertex and returns\n",
    "            early if the vertex is empty\n",
    "            \"\"\"\n",
    "            \n",
    "            # place the vertex into visited dct\n",
    "            visited[vertex] = True\n",
    "            # append vertex to result\n",
    "            result.append(vertex)\n",
    "            # loop over the adjacency list for that vertex\n",
    "            for edge in self.adjacency_dct[vertex]:\n",
    "                # if any of edges have not been visited, \n",
    "                # recursively invoke the helper function with that edge \n",
    "                if not edge in visited:\n",
    "                    dfs(edge)\n",
    "            return vertex\n",
    "        dfs(start_vertex)\n",
    "        \n",
    "        return result\n",
    "    \n",
    "    \n",
    "    def depth_first_iterative(self, start_vertex):\n",
    "        \"\"\"\n",
    "        Depth First Traversal Iterative. \n",
    "        Function accepts starting point\n",
    "        \"\"\"\n",
    "        \n",
    "        # stack to help use keep track of vertices\n",
    "        stack = []\n",
    "        # list to store end result\n",
    "        result = []\n",
    "        # dict to store visited vertices\n",
    "        visited = {}\n",
    "        # add the starting vertex to the stack\n",
    "        stack.append(start_vertex)\n",
    "        # while the stack has smth in it\n",
    "        while stack:\n",
    "            # pop the next vertex from the stack\n",
    "            vertex = stack.pop()\n",
    "            # if that vertex hasn't been visited yet\n",
    "            if not vertex in visited:\n",
    "                # mark it as visited\n",
    "                visited[vertex] = True\n",
    "                # add it to the result list\n",
    "                result.append(vertex)\n",
    "                # append all of it's neighbors into the stack\n",
    "                stack.extend(self.adjacency_dct[vertex])\n",
    "        \n",
    "        return result\n",
    "    \n",
    "    \n",
    "    def breadth_first(self, start_vertex):\n",
    "        \"\"\"\n",
    "        Breadth First Traversal Iterative. \n",
    "        Function accepts starting point\n",
    "        \"\"\"\n",
    "        \n",
    "        # queue to help use keep track of vertices\n",
    "        queue = []\n",
    "        # list to store end result (visited nodes)\n",
    "        result = []\n",
    "        # dict to store visited vertices\n",
    "        visited = {}\n",
    "        # add the starting vertex to the queue\n",
    "        queue.append(start_vertex)\n",
    "        # mark the starting vertex as visited \n",
    "        visited[start_vertex] = True\n",
    "        # while the queue has smth in it\n",
    "        while queue:\n",
    "            # remove the vertex from the queue\n",
    "            vertex = queue.pop(0)\n",
    "            # append it to the visited nodes list\n",
    "            result.append(vertex)\n",
    "            # loop over each vertex (neighbor) in the adjacency list for vertex\n",
    "            for neighbor in self.adjacency_dct[vertex]:\n",
    "                # if it was not visited\n",
    "                if not neighbor in  visited:\n",
    "                    # mark it as visited\n",
    "                    visited[neighbor] = True\n",
    "                    # enqueue it\n",
    "                    queue.append(neighbor)\n",
    "                \n",
    "        \n",
    "        return result\n",
    "                \n",
    "            \n",
    "            "
   ]
  },
  {
   "cell_type": "code",
   "execution_count": 3,
   "metadata": {},
   "outputs": [],
   "source": [
    "vertices = ['A', 'B', 'C', 'D', 'E', 'F']\n",
    "edges = [('A', 'B'), ('A', 'C'), ('B', 'D'), ('C', 'E'), ('D', 'E'), ('D', 'F'), ('E', 'F')]"
   ]
  },
  {
   "cell_type": "code",
   "execution_count": 4,
   "metadata": {},
   "outputs": [],
   "source": [
    "g = Graph()"
   ]
  },
  {
   "cell_type": "code",
   "execution_count": 5,
   "metadata": {},
   "outputs": [],
   "source": [
    "for vertex in vertices:\n",
    "    g.add_vertex(vertex)"
   ]
  },
  {
   "cell_type": "code",
   "execution_count": 6,
   "metadata": {},
   "outputs": [],
   "source": [
    "for edge in edges:\n",
    "    g.add_edge(*edge)"
   ]
  },
  {
   "cell_type": "code",
   "execution_count": 7,
   "metadata": {},
   "outputs": [
    {
     "data": {
      "text/plain": [
       "{'A': ['B', 'C'],\n",
       " 'B': ['A', 'D'],\n",
       " 'C': ['A', 'E'],\n",
       " 'D': ['B', 'E', 'F'],\n",
       " 'E': ['C', 'D', 'F'],\n",
       " 'F': ['D', 'E']}"
      ]
     },
     "execution_count": 7,
     "metadata": {},
     "output_type": "execute_result"
    }
   ],
   "source": [
    "g.adjacency_dct"
   ]
  },
  {
   "cell_type": "code",
   "execution_count": 8,
   "metadata": {},
   "outputs": [
    {
     "name": "stdout",
     "output_type": "stream",
     "text": [
      "Nodes of graph:  ['A', 'B', 'C', 'D', 'E', 'F']\n"
     ]
    },
    {
     "data": {
      "image/png": "[encoded data removed]",
      "text/plain": [
       "<Figure size 432x288 with 1 Axes>"
      ]
     },
     "metadata": {},
     "output_type": "display_data"
    }
   ],
   "source": [
    "g.graph()"
   ]
  },
  {
   "cell_type": "code",
   "execution_count": 9,
   "metadata": {},
   "outputs": [
    {
     "data": {
      "text/plain": [
       "['A', 'B', 'D', 'E', 'C', 'F']"
      ]
     },
     "execution_count": 9,
     "metadata": {},
     "output_type": "execute_result"
    }
   ],
   "source": [
    "g.depth_first_recursive('A')"
   ]
  },
  {
   "cell_type": "code",
   "execution_count": 10,
   "metadata": {},
   "outputs": [
    {
     "data": {
      "text/plain": [
       "['A', 'C', 'E', 'F', 'D', 'B']"
      ]
     },
     "execution_count": 10,
     "metadata": {},
     "output_type": "execute_result"
    }
   ],
   "source": [
    "g.depth_first_iterative('A')"
   ]
  },
  {
   "cell_type": "code",
   "execution_count": 11,
   "metadata": {},
   "outputs": [
    {
     "data": {
      "text/plain": [
       "['A', 'B', 'C', 'D', 'E', 'F']"
      ]
     },
     "execution_count": 11,
     "metadata": {},
     "output_type": "execute_result"
    }
   ],
   "source": [
    "g.breadth_first('A')"
   ]
  },
  {
   "cell_type": "code",
   "execution_count": null,
   "metadata": {},
   "outputs": [],
   "source": []
  }
 ],
 "metadata": {
  "kernelspec": {
   "display_name": "Python 3",
   "language": "python",
   "name": "python3"
  },
  "language_info": {
   "codemirror_mode": {
    "name": "ipython",
    "version": 3
   },
   "file_extension": ".py",
   "mimetype": "text/x-python",
   "name": "python",
   "nbconvert_exporter": "python",
   "pygments_lexer": "ipython3",
   "version": "3.7.6"
  }
 },
 "nbformat": 4,
 "nbformat_minor": 2
}
