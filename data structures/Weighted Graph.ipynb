{
 "cells": [
  {
   "cell_type": "markdown",
   "metadata": {},
   "source": [
    "# Weighted Graph"
   ]
  },
  {
   "cell_type": "code",
   "execution_count": 1,
   "metadata": {},
   "outputs": [],
   "source": [
    "import math\n",
    "import string\n",
    "import random\n",
    "import networkx as nx\n",
    "import numpy as np\n",
    "import matplotlib.pyplot as plt\n",
    "from collections import Counter"
   ]
  },
  {
   "cell_type": "code",
   "execution_count": 2,
   "metadata": {},
   "outputs": [],
   "source": [
    "class Node:\n",
    "    \"\"\"PiorityQueue Node\"\"\"\n",
    "    \n",
    "    def __init__(self, value, priority):\n",
    "        self.value = value\n",
    "        self.priority = priority\n",
    "        \n",
    "        \n",
    "class PriorityQueue:\n",
    "    \n",
    "    def __init__(self):\n",
    "        self.values = []\n",
    "        \n",
    "        \n",
    "    def enqueue(self, value, priority):\n",
    "        \"\"\"\n",
    "        Enqueue method accepts a value and priority, makes a new node,\n",
    "        and puts in the right spot based off of its priority\n",
    "        \"\"\"\n",
    "        \n",
    "        new_node = Node(value, priority)\n",
    "        # append the value into the values property on the heap\n",
    "        self.values.append(new_node)\n",
    "        self.bubble_up()\n",
    "        \n",
    "        \n",
    "    def bubble_up(self):\n",
    "        \"\"\"\n",
    "        Method to 'bubble up' last node in values list\n",
    "        to the correct spot\n",
    "        \"\"\"\n",
    "        idx = len(self.values)-1\n",
    "        element = self.values[idx]\n",
    "        parent_idx = int((idx-1)/2)\n",
    "        parent = self.values[parent_idx]\n",
    "        \n",
    "        # keep looping as long as the values element at the parent_index\n",
    "        # is less than the values element at the child index\n",
    "        while idx > 0 and element.priority < parent.priority:\n",
    "            # swap the value of the values element at the parent_index\n",
    "            # with the value of the element property at the child index\n",
    "            self.values[parent_idx], self.values[idx] =  self.values[idx], self.values[parent_idx]\n",
    "            # set the index to be parent_index, and start over\n",
    "            idx = parent_idx\n",
    "            parent_idx = int((idx-1)/2)\n",
    "            parent = self.values[parent_idx]\n",
    "            \n",
    "        return self\n",
    "        \n",
    "        \n",
    "    def dequeue(self):\n",
    "        \"\"\"\n",
    "        Romoves root from the heap. Rearrange values in heap.\n",
    "        Returns old root\n",
    "        \"\"\"\n",
    "        if not self.values:\n",
    "            return None\n",
    "        # swap the first value in values property with the last one\n",
    "        last_index = len(self.values) - 1 \n",
    "        self.values[0], self.values[last_index] = self.values[last_index], self.values[0]\n",
    "        # pop from the values property to return the value at the end\n",
    "        ex_root = self.values.pop()\n",
    "        # call sink_down function to place 'new root' to correct spot\n",
    "        if self.values:\n",
    "            self.sink_down()\n",
    "        \n",
    "        return ex_root\n",
    "        \n",
    "    \n",
    "    def sink_down(self):\n",
    "        \"\"\"Function to 'sink-down' root to the correct spot\"\"\"\n",
    "        \n",
    "        # parent index starts at 0\n",
    "        idx = 0\n",
    "        length = len(self.values)\n",
    "        element = self.values[0]\n",
    "        while True:\n",
    "            # left child index\n",
    "            left_child_idx = 2 * idx + 1\n",
    "            # right child index\n",
    "            right_child_idx = 2 * idx + 2\n",
    "            # index of element to swap with\n",
    "            swap = None\n",
    "            \n",
    "            # need to swap parent element with the largest child\n",
    "            # if child is greater than parent\n",
    "            \n",
    "            # if left child exist\n",
    "            if left_child_idx < length:\n",
    "                left_child = self.values[left_child_idx]\n",
    "                # and left child is greater than element to 'sink-down'\n",
    "                if left_child.priority < element.priority:\n",
    "                    # swap index is left child index\n",
    "                    swap = left_child_idx\n",
    "            # if right child exist\n",
    "            if right_child_idx < length:\n",
    "                right_child = self.values[right_child_idx]\n",
    "                # if swap index was not found before (left child is less than element)\n",
    "                # and right child is greater than element\n",
    "                # or if swap index was found before (lift child is greater than element)\n",
    "                # but right child is greater than left child\n",
    "                if (not swap and right_child.priority < element.priority) or \\\n",
    "                    (swap and right_child.priority < left_child.priority):\n",
    "                        # swap index is right child index\n",
    "                        swap = right_child_idx\n",
    "            # if left and right children is less then element\n",
    "            # then parent element is in correct spot\n",
    "            if not swap:\n",
    "                break\n",
    "            # if swap index was found swap parent with one of children\n",
    "            self.values[idx], self.values[swap] = self.values[swap], self.values[idx]\n",
    "            # index of parent element after swap\n",
    "            idx = swap\n",
    "            \n",
    "            \n",
    "    def graph(self):\n",
    "        \"\"\"\n",
    "        Builds Piority Queue graph with node tree level, \n",
    "        priority and value labels\n",
    "        \"\"\"\n",
    "        \n",
    "        nodes = self.values\n",
    "        # string representation of nodes\n",
    "        nodes_str = []\n",
    "        \n",
    "        if not len(nodes):\n",
    "            return None\n",
    "        max_graph = nx.Graph()\n",
    "        root_node = nodes[0]\n",
    "        # string representation of root node\n",
    "        root_node_str = f'ROOT(P: {root_node.priority}, V: {root_node.value})' \n",
    "        nodes_str.append(root_node_str)\n",
    "        # add root node on graph\n",
    "        max_graph.add_node(root_node_str)\n",
    "        for i in range(len(nodes)):\n",
    "            # left and right children indexes of the current parent element\n",
    "            left_child_idx = 2*i + 1\n",
    "            right_child_idx = 2*i + 2\n",
    "            # binary tree level of parent element\n",
    "            parent_level = int(math.log2(i+1))\n",
    "            # if left child exist\n",
    "            if len(nodes) > left_child_idx:\n",
    "                left_child = nodes[left_child_idx]\n",
    "                # string representation of left child\n",
    "                left_child_str = f'{parent_level+1}L(P: {left_child.priority}, V: {left_child.value})'\n",
    "                nodes_str.append(left_child_str)\n",
    "                # add left child on graph and draw connection with parent\n",
    "                max_graph.add_node(left_child_str)\n",
    "                max_graph.add_edge(nodes_str[i], left_child_str)\n",
    "            # if right child exist\n",
    "            if len(nodes) > right_child_idx:\n",
    "                right_child = nodes[right_child_idx]\n",
    "                # string representation of right child\n",
    "                right_child_str = f'{parent_level+1}R(P: {right_child.priority}, V: {right_child.value})'\n",
    "                nodes_str.append(right_child_str)\n",
    "                # add right child on graph and draw connection with parent\n",
    "                max_graph.add_node(right_child_str)\n",
    "                max_graph.add_edge(nodes_str[i], right_child_str)\n",
    "        \n",
    "        print(\"Nodes of graph: \", max_graph.nodes())\n",
    "        nx.draw(max_graph, with_labels = True)\n",
    "        plt.show()"
   ]
  },
  {
   "cell_type": "code",
   "execution_count": 19,
   "metadata": {},
   "outputs": [],
   "source": [
    "class WeightedGraph:\n",
    "    \n",
    "    def __init__(self):\n",
    "        \n",
    "        self.adjacency_dct = {}\n",
    "        \n",
    "    \n",
    "    def add_vertex(self, vertex):\n",
    "        \"\"\"\n",
    "        Method to add vertex. Acceppts a name of a vertex.\n",
    "        Adds a key to adjacency list with the name of the vertex\n",
    "        and sets its value to be an empty dictionary.\n",
    "        \"\"\"\n",
    "        \n",
    "        if not self.adjacency_dct.get(vertex): \n",
    "            self.adjacency_dct[vertex] = []\n",
    "        \n",
    "    \n",
    "    def add_edge(self, vertex1, vertex2, weight):\n",
    "        \"\"\"\n",
    "        Method accepts two vertices. It finds in the adjacency list \n",
    "        the key of vertex1 and append vertex2 to the list and \n",
    "        vice versa\n",
    "        \"\"\"\n",
    "        \n",
    "        # check if both vertexes exist \n",
    "        if vertex1 in self.adjacency_dct and vertex2 in self.adjacency_dct:\n",
    "            self.adjacency_dct[vertex1].append({'node': vertex2, 'weight': weight})\n",
    "            self.adjacency_dct[vertex2].append({'node': vertex1, 'weight': weight})\n",
    "            \n",
    "            \n",
    "    def graph(self):\n",
    "        \"\"\"Builds a Weighted Graph \"\"\"\n",
    "        \n",
    "        if not self.adjacency_dct:\n",
    "            return None\n",
    "        \n",
    "        G = nx.Graph()\n",
    "        G.add_nodes_from(self.adjacency_dct.keys())\n",
    "        for vertex, neighbours in self.adjacency_dct.items():\n",
    "            for neighbour in neighbours:\n",
    "                G.add_edge(vertex, neighbour['node'], \n",
    "                            weight=neighbour['weight'])\n",
    "        print(\"Nodes of graph: \", G.nodes())\n",
    "        pos = nx.spring_layout(G)\n",
    "        nx.draw_networkx_nodes(G, pos)\n",
    "        nx.draw_networkx_labels(G, pos)\n",
    "        nx.draw_networkx_edges(G, pos)\n",
    "        labels = nx.get_edge_attributes(G, 'weight')\n",
    "        nx.draw_networkx_edge_labels(G, pos, edge_labels=labels)\n",
    "        print(G.edges)\n",
    "        plt.show()\n",
    "        \n",
    "        \n",
    "    def shortest_path(self, start_vertex, end_vertex):\n",
    "        \"\"\"\n",
    "        Method accepts a starting and ending vertices.\n",
    "        Returns shortest path between those vertices.\n",
    "        Method implements Dijkstra algorithm.\n",
    "        \"\"\"\n",
    "        \n",
    "#         path = []\n",
    "        \n",
    "        # distances dict with graph vertices as keys\n",
    "        # and total distance from start_vertex to the key (vertex) as values\n",
    "        # initaially each key (vertex) set with a velue of infinity,\n",
    "        # except for the starting vertex which should have a value of 0\n",
    "        distances = dict.fromkeys(self.adjacency_dct.keys(), np.inf)\n",
    "        distances[start_vertex] = 0\n",
    "        # add each vertex with a priority of Infinity to the priority\n",
    "        # queue, except the starting vertex, which should have a prioryty of 0\n",
    "        # because thats's where we begin\n",
    "        priority_queue = PriorityQueue()\n",
    "        for key in self.adjacency_dct.keys():\n",
    "            if key == start_vertex:\n",
    "                priority = 0\n",
    "            else:\n",
    "                priority = np.inf\n",
    "            priority_queue.enqueue(key, priority)\n",
    "        # previous dict with graph vertices as keys\n",
    "        # and previous vertices used to reach key vertice from start vertice\n",
    "        # with the shortest distance as values\n",
    "        # initially set for each key value of None\n",
    "        previous = dict.fromkeys(self.adjacency_dct.keys(), None)\n",
    "        # looping as long as there is anything in the priority queue\n",
    "        while priority_queue.values:\n",
    "            # dequeue vertx from a priority queue\n",
    "            vertex = priority_queue.dequeue()\n",
    "            \n",
    "            # loop through the each value in the adjacency list \n",
    "            if vertex.value != end_vertex:\n",
    "                for neighbour in self.adjacency_dct[vertex.value]:\n",
    "                    # calculate the distance to that vertex from the starting vertex\n",
    "                    neighbour_distance = distances[vertex.value] + neighbour['weight']\n",
    "                    # if the distance is less than what is currently stored\n",
    "                    # in our distances dict\n",
    "                    if neighbour_distance < distances[neighbour['node']]:\n",
    "                        # update the distances dict with new lower distance\n",
    "                        distances[neighbour['node']] = neighbour_distance\n",
    "                        # update the previous dict to contain that vertex\n",
    "                        previous[neighbour['node']] = vertex.value\n",
    "                        # enqueue  the vertex with the total distance \n",
    "                        # from the start node\n",
    "                        priority_queue.enqueue(neighbour['node'], neighbour_distance)\n",
    "            # if dequeued vertex is the same as the ending vertex we are done\n",
    "            else:                 \n",
    "                break \n",
    "        \n",
    "        return previous, distances[end_vertex]\n",
    "        \n",
    "        \n",
    "    def shortest_path_graph(self, start_vertex = None, end_vertex = None):\n",
    "        \"\"\"\n",
    "        Builds Weighted Graph with shortest path from start vertex to\n",
    "        end vertex. If no vertices passed than random vertices is chosen\n",
    "        \"\"\"\n",
    "        \n",
    "        \n",
    "        if not self.adjacency_dct:\n",
    "            return None\n",
    "        \n",
    "        # choose start and end vertices if they were not strictly defined\n",
    "        if not start_vertex:\n",
    "            start_vertex = random.choice(list(self.adjacency_dct.keys()))\n",
    "        if not end_vertex:\n",
    "            end_vertex = random.choice(list(self.adjacency_dct.keys()))\n",
    "        \n",
    "        previous, distance = self.shortest_path(start_vertex, end_vertex)\n",
    "        \n",
    "        # create graph nodes (vertices) and edges\n",
    "        G = nx.Graph()\n",
    "        G.add_nodes_from(self.adjacency_dct.keys())\n",
    "        for vertex, neighbours in self.adjacency_dct.items():\n",
    "            for neighbour in neighbours:\n",
    "                G.add_edge(vertex, neighbour['node'], \n",
    "                            weight=neighbour['weight'])\n",
    "        # nodes positions\n",
    "        pos = nx.spring_layout(G)\n",
    "        \n",
    "        # check path from end vertex to start vertex (backwards)\n",
    "        # edges list\n",
    "        shortest_path_edges = []\n",
    "        # intermedia nodes list (path vetices excluding start and end vertices)\n",
    "        nodes_path_lst = []\n",
    "        # check previous dct from end vertex\n",
    "        vertex = end_vertex\n",
    "        while vertex != start_vertex:\n",
    "            # add node to the list\n",
    "            nodes_path_lst.append(vertex)\n",
    "            # if previus vertex exist\n",
    "            if previous.get(vertex):\n",
    "                # add edge from current vertex to previos vertex\n",
    "                shortest_path_edges.append((previous.get(vertex), vertex))\n",
    "                # move to previous vertex\n",
    "                vertex = previous.get(vertex)\n",
    "            # if previous vertx doesn't exist there is no path\n",
    "            else:\n",
    "                print('No path found')\n",
    "                return None\n",
    "            \n",
    "        # create list of vertices which are not part of the path    \n",
    "        nodes = list(G.nodes())\n",
    "        for node in nodes_path_lst:\n",
    "            nodes.remove(node)\n",
    "        nodes.remove(start_vertex)\n",
    "        if start_vertex != end_vertex:\n",
    "            nodes_path_lst.remove(end_vertex)\n",
    "\n",
    "        print(\"Nodes of graph: \", G.nodes())\n",
    "        print(f'Start: {start_vertex}, Path: {nodes_path_lst[::-1]}, Finish: {end_vertex}, Min Distance: {distance}')\n",
    "        # draw transparent vertices which are not part of the path\n",
    "        nx.draw_networkx_nodes(G, pos, nodelist=nodes, alpha = 0.5)\n",
    "        # draw triangular green start vertex \n",
    "        nx.draw_networkx_nodes(G, pos, nodelist=[start_vertex], \n",
    "                               node_size=500, node_color='g', node_shape='v',linewidths = 2)\n",
    "        # draw green intermedia vertices\n",
    "        nx.draw_networkx_nodes(G, pos, nodelist= nodes_path_lst, node_size=400, node_color='g')\n",
    "        # draw green squared end vertex\n",
    "        nx.draw_networkx_nodes(G, pos, nodelist=[end_vertex], \n",
    "                               node_size=500, node_color='r', node_shape='s', linewidths = 2)\n",
    "        nx.draw_networkx_labels(G, pos)\n",
    "\n",
    "        nx.draw_networkx_edges(G, pos, style='dashed')\n",
    "        nx.draw_networkx_edges(G, pos, edgelist= shortest_path_edges, width = 2, edge_color = 'r', arrows=True)\n",
    "        labels = nx.get_edge_attributes(G, 'weight')\n",
    "        nx.draw_networkx_edge_labels(G, pos, edge_labels=labels)\n",
    "        plt.show()"
   ]
  },
  {
   "cell_type": "code",
   "execution_count": 29,
   "metadata": {},
   "outputs": [],
   "source": [
    "def generate_weighted_graph(n=10, p=0.2):\n",
    "    \"\"\"\n",
    "    Function to generate rendom Weighted Graph\n",
    "    \"\"\"\n",
    "    \n",
    "    G = nx.fast_gnp_random_graph(n, p)\n",
    "    mapping = dict(zip(G, string.ascii_uppercase))\n",
    "    G = nx.relabel_nodes(G, mapping)\n",
    "    edge_weights = [(*edge, random.randint(1, 10)) for edge in G.edges]\n",
    "    vertices = list(G.nodes)\n",
    "    wg = WeightedGraph()\n",
    "    for vertex in vertices:\n",
    "        wg.add_vertex(vertex)\n",
    "    for edge in edge_weights:\n",
    "        wg.add_edge(*edge)\n",
    "        \n",
    "    if [] in wg.adjacency_dct.values():\n",
    "        print('Regenerate graph')\n",
    "        wg = generate_weighted_graph(n, p)\n",
    "        \n",
    "    return wg"
   ]
  },
  {
   "cell_type": "code",
   "execution_count": 30,
   "metadata": {},
   "outputs": [],
   "source": [
    "wg = WeightedGraph()"
   ]
  },
  {
   "cell_type": "code",
   "execution_count": 31,
   "metadata": {},
   "outputs": [],
   "source": [
    "vertices = ['A', 'B', 'C', 'D', 'E', 'F']\n",
    "edges = [('A', 'B', 4), ('A', 'C', 2), ('C', 'D', 2), ('C', 'F', 4), \n",
    "         ('D', 'E', 3), ('D', 'F', 1), ('F', 'E', 1), ('B', 'E', 3)]"
   ]
  },
  {
   "cell_type": "code",
   "execution_count": 32,
   "metadata": {},
   "outputs": [],
   "source": [
    "for vertex in vertices:\n",
    "    wg.add_vertex(vertex)"
   ]
  },
  {
   "cell_type": "code",
   "execution_count": 33,
   "metadata": {},
   "outputs": [],
   "source": [
    "for edge in edges:\n",
    "    wg.add_edge(*edge)"
   ]
  },
  {
   "cell_type": "code",
   "execution_count": 34,
   "metadata": {},
   "outputs": [
    {
     "data": {
      "text/plain": [
       "{'A': [{'node': 'B', 'weight': 4}, {'node': 'C', 'weight': 2}],\n",
       " 'B': [{'node': 'A', 'weight': 4}, {'node': 'E', 'weight': 3}],\n",
       " 'C': [{'node': 'A', 'weight': 2},\n",
       "  {'node': 'D', 'weight': 2},\n",
       "  {'node': 'F', 'weight': 4}],\n",
       " 'D': [{'node': 'C', 'weight': 2},\n",
       "  {'node': 'E', 'weight': 3},\n",
       "  {'node': 'F', 'weight': 1}],\n",
       " 'E': [{'node': 'D', 'weight': 3},\n",
       "  {'node': 'F', 'weight': 1},\n",
       "  {'node': 'B', 'weight': 3}],\n",
       " 'F': [{'node': 'C', 'weight': 4},\n",
       "  {'node': 'D', 'weight': 1},\n",
       "  {'node': 'E', 'weight': 1}]}"
      ]
     },
     "execution_count": 34,
     "metadata": {},
     "output_type": "execute_result"
    }
   ],
   "source": [
    "wg.adjacency_dct"
   ]
  },
  {
   "cell_type": "code",
   "execution_count": 35,
   "metadata": {},
   "outputs": [
    {
     "name": "stdout",
     "output_type": "stream",
     "text": [
      "Nodes of graph:  ['A', 'B', 'C', 'D', 'E', 'F']\n",
      "[('A', 'B'), ('A', 'C'), ('B', 'E'), ('C', 'D'), ('C', 'F'), ('D', 'E'), ('D', 'F'), ('E', 'F')]\n"
     ]
    },
    {
     "data": {
      "image/png": "[encoded data removed]",
      "text/plain": [
       "<Figure size 432x288 with 1 Axes>"
      ]
     },
     "metadata": {},
     "output_type": "display_data"
    }
   ],
   "source": [
    "wg.graph()"
   ]
  },
  {
   "cell_type": "code",
   "execution_count": 36,
   "metadata": {},
   "outputs": [
    {
     "data": {
      "text/plain": [
       "({'A': None, 'B': 'A', 'C': 'A', 'D': 'C', 'E': 'F', 'F': 'D'}, 6)"
      ]
     },
     "execution_count": 36,
     "metadata": {},
     "output_type": "execute_result"
    }
   ],
   "source": [
    "wg.shortest_path('A', 'E')"
   ]
  },
  {
   "cell_type": "code",
   "execution_count": 37,
   "metadata": {},
   "outputs": [
    {
     "name": "stdout",
     "output_type": "stream",
     "text": [
      "Nodes of graph:  ['A', 'B', 'C', 'D', 'E', 'F']\n",
      "Start: C, Path: ['D', 'F'], Finish: E, Min Distance: 4\n"
     ]
    },
    {
     "data": {
      "image/png": "[encoded data removed]",
      "text/plain": [
       "<Figure size 432x288 with 1 Axes>"
      ]
     },
     "metadata": {},
     "output_type": "display_data"
    }
   ],
   "source": [
    "wg.shortest_path_graph('C', 'E')"
   ]
  },
  {
   "cell_type": "code",
   "execution_count": 38,
   "metadata": {
    "scrolled": true
   },
   "outputs": [
    {
     "name": "stdout",
     "output_type": "stream",
     "text": [
      "Nodes of graph:  ['A', 'B', 'C', 'D', 'E', 'F']\n",
      "Start: F, Path: ['E'], Finish: B, Min Distance: 4\n"
     ]
    },
    {
     "data": {
      "image/png": "[encoded data removed]",
      "text/plain": [
       "<Figure size 432x288 with 1 Axes>"
      ]
     },
     "metadata": {},
     "output_type": "display_data"
    }
   ],
   "source": [
    "wg.shortest_path_graph()"
   ]
  },
  {
   "cell_type": "code",
   "execution_count": 39,
   "metadata": {},
   "outputs": [
    {
     "name": "stdout",
     "output_type": "stream",
     "text": [
      "Nodes of graph:  ['A', 'B', 'C', 'D', 'E', 'F']\n",
      "Start: B, Path: [], Finish: B, Min Distance: 0\n"
     ]
    },
    {
     "data": {
      "image/png": "[encoded data removed]",
      "text/plain": [
       "<Figure size 432x288 with 1 Axes>"
      ]
     },
     "metadata": {},
     "output_type": "display_data"
    }
   ],
   "source": [
    "wg.shortest_path_graph('B', 'B')"
   ]
  },
  {
   "cell_type": "code",
   "execution_count": 40,
   "metadata": {},
   "outputs": [
    {
     "name": "stdout",
     "output_type": "stream",
     "text": [
      "Regenerate graph\n",
      "Regenerate graph\n",
      "Regenerate graph\n",
      "Regenerate graph\n",
      "Regenerate graph\n"
     ]
    }
   ],
   "source": [
    "wg = generate_weighted_graph()"
   ]
  },
  {
   "cell_type": "code",
   "execution_count": 41,
   "metadata": {
    "scrolled": true
   },
   "outputs": [
    {
     "name": "stdout",
     "output_type": "stream",
     "text": [
      "Nodes of graph:  ['A', 'B', 'C', 'D', 'E', 'F', 'G', 'H', 'I', 'J']\n",
      "[('A', 'I'), ('B', 'J'), ('C', 'D'), ('C', 'E'), ('C', 'I'), ('C', 'J'), ('D', 'E'), ('D', 'G'), ('E', 'H'), ('F', 'I'), ('I', 'J')]\n"
     ]
    },
    {
     "data": {
      "image/png": "[encoded data removed]",
      "text/plain": [
       "<Figure size 432x288 with 1 Axes>"
      ]
     },
     "metadata": {},
     "output_type": "display_data"
    }
   ],
   "source": [
    "wg.graph()"
   ]
  },
  {
   "cell_type": "code",
   "execution_count": 44,
   "metadata": {},
   "outputs": [
    {
     "name": "stdout",
     "output_type": "stream",
     "text": [
      "Nodes of graph:  ['A', 'B', 'C', 'D', 'E', 'F', 'G', 'H', 'I', 'J']\n",
      "Start: H, Path: ['E', 'C', 'I'], Finish: J, Min Distance: 13\n"
     ]
    },
    {
     "data": {
      "image/png": "[encoded data removed]",
      "text/plain": [
       "<Figure size 432x288 with 1 Axes>"
      ]
     },
     "metadata": {},
     "output_type": "display_data"
    }
   ],
   "source": [
    "wg.shortest_path_graph()"
   ]
  },
  {
   "cell_type": "code",
   "execution_count": 45,
   "metadata": {},
   "outputs": [
    {
     "data": {
      "text/plain": [
       "({'A': 'I',\n",
       "  'B': 'J',\n",
       "  'C': 'I',\n",
       "  'D': 'C',\n",
       "  'E': 'C',\n",
       "  'F': 'I',\n",
       "  'G': 'D',\n",
       "  'H': 'E',\n",
       "  'I': None,\n",
       "  'J': 'I'},\n",
       " 10)"
      ]
     },
     "execution_count": 45,
     "metadata": {},
     "output_type": "execute_result"
    }
   ],
   "source": [
    "wg.shortest_path('I', 'A')"
   ]
  },
  {
   "cell_type": "code",
   "execution_count": null,
   "metadata": {},
   "outputs": [],
   "source": []
  }
 ],
 "metadata": {
  "kernelspec": {
   "display_name": "Python 3",
   "language": "python",
   "name": "python3"
  },
  "language_info": {
   "codemirror_mode": {
    "name": "ipython",
    "version": 3
   },
   "file_extension": ".py",
   "mimetype": "text/x-python",
   "name": "python",
   "nbconvert_exporter": "python",
   "pygments_lexer": "ipython3",
   "version": "3.7.6"
  }
 },
 "nbformat": 4,
 "nbformat_minor": 2
}
