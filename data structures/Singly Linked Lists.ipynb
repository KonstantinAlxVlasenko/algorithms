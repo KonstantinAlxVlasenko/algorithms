{
 "cells": [
  {
   "cell_type": "markdown",
   "metadata": {},
   "source": [
    "# Singly Linked Lists"
   ]
  },
  {
   "cell_type": "markdown",
   "metadata": {},
   "source": [
    "### Do not have indexes!\n",
    "### Connected via nodes with next pointer\n",
    "### Random access is not allowed"
   ]
  },
  {
   "cell_type": "markdown",
   "metadata": {},
   "source": [
    "### Big O\n",
    "#### Insertion - O(1), Removal - O(N)\n",
    "#### Searching - O(N), Access - O(N)"
   ]
  },
  {
   "cell_type": "code",
   "execution_count": 3,
   "metadata": {},
   "outputs": [],
   "source": [
    "import networkx as nx\n",
    "import matplotlib.pyplot as plt"
   ]
  },
  {
   "cell_type": "code",
   "execution_count": 4,
   "metadata": {},
   "outputs": [],
   "source": [
    "class Node():\n",
    "    \"\"\"Class to create Node of the Singly Linked List\"\"\"\n",
    "    \n",
    "    def __init__(self, value):\n",
    "        \n",
    "        self.value = value\n",
    "        self.nextnode = None"
   ]
  },
  {
   "cell_type": "code",
   "execution_count": 9,
   "metadata": {},
   "outputs": [],
   "source": [
    "class SinglyLinkedList:\n",
    "    \"\"\"Class to create Singly Linked List\"\"\"\n",
    "    \n",
    "    def __init__(self):\n",
    "        self.head = None\n",
    "        self.tail = None\n",
    "        self.length = 0\n",
    "\n",
    "        \n",
    "    def print_list(self):\n",
    "        \"\"\"\n",
    "        Shows Singly Linked list elements values\n",
    "        \"\"\"\n",
    "        lst = []\n",
    "        current = self.head\n",
    "        while current:\n",
    "            lst.append(current.value)\n",
    "            current = current.nextnode\n",
    "        print(lst)\n",
    "        \n",
    "\n",
    "    def nodes_connection(self):\n",
    "        \"\"\"\n",
    "        Shows Singly Linked list elements values\n",
    "        \"\"\"\n",
    "        \n",
    "        lst = []\n",
    "        current = self.head\n",
    "        while current:\n",
    "            if not current.nextnode:\n",
    "                lst.append([current.value, None])\n",
    "            else:   \n",
    "                lst.append([current.value, current.nextnode.value])\n",
    "            current = current.nextnode\n",
    "        \n",
    "        return lst      \n",
    "\n",
    "    \n",
    "    def graph(self):\n",
    "        \"\"\"\n",
    "        Builds Singly Linked List graph\n",
    "        \"\"\"\n",
    "\n",
    "        nodes = self.nodes_connection()\n",
    "        sll_graph = nx.DiGraph()\n",
    "        counter = 0\n",
    "        for node in nodes:\n",
    "            nodename = str(counter) + ': ' + str(node[0])\n",
    "            sll_graph.add_node(nodename)\n",
    "            if node[1]:\n",
    "                next_nodename = str(counter + 1) + ': ' + str(node[1])\n",
    "                sll_graph.add_node(next_nodename)\n",
    "                sll_graph.add_edge(nodename, next_nodename)\n",
    "            counter += 1\n",
    "        \n",
    "        print(\"Nodes of graph: \", sll_graph.nodes())\n",
    "        nx.draw(sll_graph, with_labels = True)\n",
    "        \n",
    "    \n",
    "    def push(self, value):\n",
    "        \"\"\"\n",
    "        Adds a new node to the end of the\n",
    "        Singly Linked list. Takes value of new Node\n",
    "        as an argument. Returns updated list\n",
    "        \"\"\"\n",
    "        # create a new node using value passed\n",
    "        new_node = Node(value)\n",
    "        # if there is no head property on the list, set the head\n",
    "        # and tail to be newly created node\n",
    "        if not self.head:\n",
    "            self.head = new_node\n",
    "            self.tail = self.head\n",
    "        # otherwise set the next property on the tail to be the new\n",
    "        # node and set the tail property on the list to be the\n",
    "        # newly created node\n",
    "        else:\n",
    "            self.tail.nextnode = new_node\n",
    "            self.tail = new_node\n",
    "        self.length += 1\n",
    "        return self\n",
    "    \n",
    "    \n",
    "\n",
    "\n",
    "            \n",
    "    def pop(self):\n",
    "        \"\"\"\n",
    "        Removes a node from the end of the\n",
    "        Singly Linked list and returns removed node\n",
    "        \"\"\"\n",
    "\n",
    "        # if there are no nodes in the list, return None\n",
    "        if not self.head:\n",
    "            return None\n",
    "        # loop through the list until you reach the tail\n",
    "        current = self.head\n",
    "        new_tail = current\n",
    "        while current.nextnode:\n",
    "            new_tail = current\n",
    "            current = current.nextnode\n",
    "        # set the tail to be the second to last node\n",
    "        self.tail = new_tail\n",
    "        # set the next property of the second to last node to None\n",
    "        self.tail.nextnode = None\n",
    "        # decrement the length of the list by 1\n",
    "        self.length -= 1\n",
    "        if self.length == 0:\n",
    "            self.head = None\n",
    "            self.tail = None\n",
    "        \n",
    "        return current\n",
    "    \n",
    "    \n",
    "    def shift(self):\n",
    "        \"\"\"\n",
    "        Removes first node of the list and returns\n",
    "        new list. Doesn't take any arguments\n",
    "        \"\"\"\n",
    "        # if there are no nodes, return None\n",
    "        if not self.head:\n",
    "            return None\n",
    "        # store the current head property in variable\n",
    "        old_head = self.head\n",
    "        # set the head propoerty to be the current\n",
    "        # head's next property\n",
    "        self.head = old_head.nextnode\n",
    "        # decrement length by 1\n",
    "        self.length -= 1\n",
    "        if self.length == 0:\n",
    "            self.tail = None        \n",
    "        return old_head\n",
    "    \n",
    "    \n",
    "    def unshift(self, value):\n",
    "        \"\"\"\n",
    "        Adding a new node to the begginning of the\n",
    "        Singly Linked list and returns the list. \n",
    "        Takes value of new Node as an argument\n",
    "        \"\"\"\n",
    "        \n",
    "        # create a new node using the value passed to the function\n",
    "        new_node = Node(value)\n",
    "        # if there is no head property on the list, set the head and\n",
    "        # tail to be the newly created node\n",
    "        if not self.head:\n",
    "            self.head = new_node\n",
    "            self.tail = self.head\n",
    "        # otherwise set the newly created node's next property to be\n",
    "        # the current head property on the list. set the head property \n",
    "        # on the list to be that newly created node\n",
    "        else:\n",
    "            new_node.nextnode = self.head\n",
    "            self.head = new_node\n",
    "        \n",
    "        # increment length of the list by 1\n",
    "        self.length += 1\n",
    "        \n",
    "        return self\n",
    "    \n",
    "    \n",
    "    def get(self, index):\n",
    "        \"\"\"\n",
    "        Retrieving a node by it's position in the\n",
    "        Singly Linked list. Function accept an index as\n",
    "        an argument\n",
    "        \"\"\"\n",
    "        \n",
    "        # if the index is less then zero or greater or equal to\n",
    "        # the length of the list, return None\n",
    "        if index < 0 or index >= self.length:\n",
    "            return None\n",
    "        \n",
    "        counter = 0\n",
    "        current_node = self.head\n",
    "        # loop through the list until you reach the index and\n",
    "        # return the node at that specific index\n",
    "        while counter != index:\n",
    "            current_node = current_node.nextnode\n",
    "            counter += 1\n",
    "            \n",
    "        return current_node\n",
    "            \n",
    "        \n",
    "    def set_value(self, index, value):\n",
    "        \"\"\"\n",
    "        Changing the value of a node based on it's position in the\n",
    "        Singly Linked List. Function accepts a value and index \n",
    "        as arguments. Returns True or False\n",
    "        \"\"\"\n",
    "        \n",
    "        # use get function to find the specific node\n",
    "        found_node = self.get(index)\n",
    "        # if the node is not found, return False\n",
    "        if not found_node:\n",
    "            return False\n",
    "        # if the node is found, set the value of that node to be\n",
    "        # the value passed to the function and return True\n",
    "        found_node.value = value\n",
    "        return True\n",
    "        \n",
    "        \n",
    "    def insert(self, index, value):\n",
    "        \"\"\"\n",
    "        Adding a node to the Singly Linked List\n",
    "        at specific position\n",
    "        \"\"\"\n",
    "        \n",
    "        # if the index is less then zero or greater than\n",
    "        # the length of the list, return False\n",
    "        if index < 0 or index > self.length:\n",
    "            return False\n",
    "        # if the index is the same as the length, push a new\n",
    "        # node to the end of the list\n",
    "        elif index == self.length:\n",
    "            self.push(value)\n",
    "            return True\n",
    "        # if the index is 0, unshift a new node to the start\n",
    "        # of the list\n",
    "        elif index == 0:\n",
    "            self.unshift(value)\n",
    "            return True\n",
    "        # otherwise \n",
    "        else:\n",
    "            new_node = Node(value)\n",
    "            # using get method, access the node at the 'index-1'\n",
    "            previous_node = self.get(index-1)\n",
    "            # set the next property on that node to be the new node\n",
    "            tmp = previous_node.nextnode\n",
    "            previous_node.nextnode = new_node\n",
    "            # set the next property on the new node to be the previos next\n",
    "            new_node.nextnode = tmp\n",
    "            # increment length\n",
    "            self.length += 1            \n",
    "            return True\n",
    "        \n",
    "        \n",
    "    def remove(self, index):\n",
    "        \"\"\"\n",
    "        Removing a node from the Singly Linked list\n",
    "        at a specific position. Returns the removed node\n",
    "        \"\"\"\n",
    "        \n",
    "        # if the index is less then zero or greater or equal to\n",
    "        # the length of the list, return None\n",
    "        if index < 0 or index >= self.length:\n",
    "            return None\n",
    "        # if the index is the same as the length-1, pop\n",
    "        # the node from the end of the list\n",
    "        elif index == self.length - 1:\n",
    "            return self.pop()\n",
    "        # if the index is 0, shift a node from the start\n",
    "        # of the list\n",
    "        elif index == 0:\n",
    "            return self.shift()\n",
    "        # otherwise \n",
    "        else:\n",
    "            # using get method, access the node at the 'index-1'\n",
    "            previous_node = self.get(index-1)\n",
    "            removed_node = previous_node.nextnode\n",
    "            # set the next property on that node to be the next\n",
    "            # of the next node\n",
    "            previous_node.nextnode = removed_node.nextnode\n",
    "            # decrement length\n",
    "            self.length -= 1\n",
    "            return removed_node\n",
    "        \n",
    "    \n",
    "    def reverse(self):\n",
    "        \"\"\"\n",
    "        Reversing the Singly Linked List in place. \n",
    "        Returns reversed list\n",
    "        \"\"\"\n",
    "\n",
    "        # create variable called current_node and initialize it\n",
    "        # to the head property\n",
    "        current_node = self.head\n",
    "        # swap the head and tail\n",
    "        self.tail, self.head = self.head, self.tail\n",
    "        # create variable called previous_node\n",
    "        previous_node = None\n",
    "        # create variable called next_node\n",
    "        next_node = None\n",
    "        # loop through the list\n",
    "        while current_node:\n",
    "            # set next_node to be the next property on whatever node is\n",
    "            next_node = current_node.nextnode\n",
    "            # set the next property  on the current_node to be \n",
    "            # whatever previous node is\n",
    "            current_node.nextnode = previous_node\n",
    "            # set previous_node to be the value of the current_node variable\n",
    "            previous_node = current_node\n",
    "            # set the current_node variable to be the value of next variable\n",
    "            current_node = next_node\n",
    "            \n",
    "        return self"
   ]
  },
  {
   "cell_type": "code",
   "execution_count": 10,
   "metadata": {},
   "outputs": [
    {
     "data": {
      "text/plain": [
       "<__main__.SinglyLinkedList at 0x7f2c8c5daed0>"
      ]
     },
     "execution_count": 10,
     "metadata": {},
     "output_type": "execute_result"
    }
   ],
   "source": [
    "lst = SinglyLinkedList()\n",
    "lst.push('Hello')\n",
    "lst.push('Goodbye')\n",
    "lst.push('GoodMoring')\n",
    "lst.push('!')"
   ]
  },
  {
   "cell_type": "code",
   "execution_count": 11,
   "metadata": {},
   "outputs": [
    {
     "name": "stdout",
     "output_type": "stream",
     "text": [
      "['Hello', 'Goodbye', 'GoodMoring', '!']\n"
     ]
    }
   ],
   "source": [
    "lst.print_list()"
   ]
  },
  {
   "cell_type": "code",
   "execution_count": 18,
   "metadata": {},
   "outputs": [
    {
     "name": "stdout",
     "output_type": "stream",
     "text": [
      "Nodes of graph:  ['0: Hello', '1: Hello', '2: Goodbye', '3: GoodMoring', '4: !']\n"
     ]
    },
    {
     "data": {
      "image/png": "[encoded data removed]",
      "text/plain": [
       "<Figure size 432x288 with 1 Axes>"
      ]
     },
     "metadata": {},
     "output_type": "display_data"
    }
   ],
   "source": [
    "lst.graph()"
   ]
  },
  {
   "cell_type": "code",
   "execution_count": 17,
   "metadata": {},
   "outputs": [
    {
     "data": {
      "text/plain": [
       "<__main__.SinglyLinkedList at 0x7f2c8c5daed0>"
      ]
     },
     "execution_count": 17,
     "metadata": {},
     "output_type": "execute_result"
    }
   ],
   "source": [
    "lst.unshift('Hello')"
   ]
  },
  {
   "cell_type": "code",
   "execution_count": 21,
   "metadata": {},
   "outputs": [
    {
     "name": "stdout",
     "output_type": "stream",
     "text": [
      "Nodes of graph:  ['node1', 'node2', 'node3']\n"
     ]
    },
    {
     "data": {
      "image/png": "[encoded data removed]",
      "text/plain": [
       "<Figure size 432x288 with 1 Axes>"
      ]
     },
     "metadata": {},
     "output_type": "display_data"
    }
   ],
   "source": [
    "sll_graph = nx.Graph()\n",
    "\n",
    "sll_graph.add_node('node1')\n",
    "\n",
    "# sll_graph.add_node(next_nodename)\n",
    "sll_graph.add_edge('node1', 'node2')\n",
    "\n",
    "sll_graph.add_edge('node2', 'node3')\n",
    "print(\"Nodes of graph: \", sll_graph.nodes())\n",
    "nx.draw(sll_graph, with_labels = True)"
   ]
  },
  {
   "cell_type": "code",
   "execution_count": null,
   "metadata": {},
   "outputs": [],
   "source": []
  }
 ],
 "metadata": {
  "kernelspec": {
   "display_name": "Python 3",
   "language": "python",
   "name": "python3"
  },
  "language_info": {
   "codemirror_mode": {
    "name": "ipython",
    "version": 3
   },
   "file_extension": ".py",
   "mimetype": "text/x-python",
   "name": "python",
   "nbconvert_exporter": "python",
   "pygments_lexer": "ipython3",
   "version": "3.7.6"
  }
 },
 "nbformat": 4,
 "nbformat_minor": 2
}
