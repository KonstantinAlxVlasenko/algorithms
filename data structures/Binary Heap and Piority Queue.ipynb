{
 "cells": [
  {
   "cell_type": "markdown",
   "metadata": {},
   "source": [
    "# Binary Heap"
   ]
  },
  {
   "cell_type": "markdown",
   "metadata": {},
   "source": [
    "### Max Binary Heap\n",
    "#### Each parent has at most two child nodes\n",
    "#### The value of each parent node is always greater than its child nodes\n",
    "#### In a max Binary Heap the parent is greater than the children, but there are no qurantees between sibling nodes\n",
    "#### A binary heap is as compact as possible. All the children of each node are as full as they can be and left children are filled out first\n",
    "#### parent index: floored (child_index - 1)/2, left child index: 2Xparent_index + 1, right child index: 2Xparent_index + 2"
   ]
  },
  {
   "cell_type": "markdown",
   "metadata": {},
   "source": [
    "### Big O\n",
    "#### Insertion - O(logN), Romoval - O(logN), Search - O(N)"
   ]
  },
  {
   "cell_type": "code",
   "execution_count": 5,
   "metadata": {},
   "outputs": [],
   "source": [
    "import math\n",
    "import networkx as nx\n",
    "import numpy as np\n",
    "import matplotlib.pyplot as plt"
   ]
  },
  {
   "cell_type": "code",
   "execution_count": 176,
   "metadata": {},
   "outputs": [],
   "source": [
    "class MaxBinaryHeap:\n",
    "    \n",
    "    def __init__(self):\n",
    "        self.values = []\n",
    "        \n",
    "    def insert(self, value):\n",
    "        # append the value into the values property on the heap\n",
    "        self.values.append(value)\n",
    "        index = len(self.values)-1\n",
    "        parent_index = int((index-1)/2)\n",
    "        # keep looping as long as the values element at the parent_index\n",
    "        # is less than the values element at the child index\n",
    "        while index > 0 and self.values[parent_index] < self.values[index]:\n",
    "            # swap the value of the values element at the parent_index\n",
    "            # with the value of the element property at the child index\n",
    "            self.values[parent_index], self.values[index] =  self.values[index], self.values[parent_index]\n",
    "            # set the index to be parent_index, and start over\n",
    "            index = parent_index\n",
    "            parent_index = int((index-1)/2)\n",
    "            \n",
    "        return self\n",
    "    \n",
    "\n",
    "    def graph(self):\n",
    "        \"\"\"\n",
    "        Builds Binary Heap graph with node level labels \n",
    "        \"\"\"\n",
    "        \n",
    "        nodes = self.values\n",
    "        # string representation of nodes\n",
    "        nodes_str = []\n",
    "        \n",
    "        if not len(nodes):\n",
    "            return None\n",
    "        max_graph = nx.Graph()\n",
    "        # string representation of root node\n",
    "        root_node = 'ROOT: ' + str(nodes[0])\n",
    "        nodes_str.append(root_node)\n",
    "        # add lroot node on graph\n",
    "        max_graph.add_node(root_node)\n",
    "        for i in range(len(nodes)):\n",
    "            # left and right children indexes of the current parent element\n",
    "            left_child_idx = 2*i + 1\n",
    "            right_child_idx = 2*i + 2\n",
    "            # binary tree level of parent element\n",
    "            parent_level = int(math.log2(i+1))\n",
    "            # if left child exist\n",
    "            if len(nodes) > left_child_idx:\n",
    "                # string representation of left child\n",
    "                left_child = f'{parent_level+1}L: {str(nodes[left_child_idx])}'\n",
    "                nodes_str.append(left_child)\n",
    "                # add left child on graph and draw connection with parent\n",
    "                max_graph.add_node(left_child)\n",
    "                max_graph.add_edge(nodes_str[i], left_child)\n",
    "            # if right child exist\n",
    "            if len(nodes) > right_child_idx:\n",
    "                # string representation of right child\n",
    "                right_child = f'{parent_level+1}R: {str(nodes[right_child_idx])}'\n",
    "                nodes_str.append(right_child)\n",
    "                # add right child on graph and draw connection with parent\n",
    "                max_graph.add_node(right_child)\n",
    "                max_graph.add_edge(nodes_str[i], right_child)\n",
    "        \n",
    "        print(\"Nodes of graph: \", max_graph.nodes())\n",
    "        print(\"Binary Heap values: \", nodes)\n",
    "        nx.draw(max_graph, with_labels = True)\n",
    "        plt.show()\n",
    "            \n",
    "    \n",
    "    def extract_max(self):\n",
    "        \"\"\"\n",
    "        Romoves root from the heap. Rearrange values in heap.\n",
    "        Returns old root\n",
    "        \"\"\"\n",
    "        if not self.values:\n",
    "            return None\n",
    "        # swap the first value in values property with the last one\n",
    "        last_index = len(self.values) - 1 \n",
    "        self.values[0], self.values[last_index] = self.values[last_index], self.values[0]\n",
    "        # pop from the values property to return the value at the end\n",
    "        ex_root = self.values.pop()\n",
    "        # call sink_down function to place 'new root' to correct spot\n",
    "        if self.values:\n",
    "            self.sink_down()\n",
    "        \n",
    "        return ex_root\n",
    "        \n",
    "    \n",
    "    def sink_down(self):\n",
    "        \"\"\"Function to 'sink-down' root to the correct spot\"\"\"\n",
    "        \n",
    "        # parent index starts at 0\n",
    "        idx = 0\n",
    "        length = len(self.values)\n",
    "        element = self.values[0]\n",
    "        while True:\n",
    "            # left child index\n",
    "            left_child_idx = 2 * idx + 1\n",
    "            # right child index\n",
    "            right_child_idx = 2 * idx + 2\n",
    "            # index of element to swap with\n",
    "            swap = None\n",
    "            \n",
    "            # need to swap parent element with the largest child\n",
    "            # if child is greater than parent\n",
    "            \n",
    "            # if left child exist\n",
    "            if left_child_idx < length:\n",
    "                left_child = self.values[left_child_idx]\n",
    "                # and left child is greater than element to 'sink-down'\n",
    "                if left_child > element:\n",
    "                    # swap index is left child index\n",
    "                    swap = left_child_idx\n",
    "            # if right child exist\n",
    "            if right_child_idx < length:\n",
    "                right_child = self.values[right_child_idx]\n",
    "                # if swap index was not found before (left child is less than element)\n",
    "                # and right child is greater than element\n",
    "                # or if swap index was found before (lift child is greater than element)\n",
    "                # but right child is greater than left child\n",
    "                if (not swap and right_child > element) or \\\n",
    "                    (swap and right_child > left_child):\n",
    "                        # swap index is right child index\n",
    "                        swap = right_child_idx\n",
    "            # if left and right children is less then element\n",
    "            # then parent element is in correct spot\n",
    "            if not swap:\n",
    "                break\n",
    "            # if swap index was found swap parent with one of children\n",
    "            self.values[idx], self.values[swap] = self.values[swap], self.values[idx]\n",
    "            # index of parent element after swap\n",
    "            idx = swap"
   ]
  },
  {
   "cell_type": "code",
   "execution_count": 65,
   "metadata": {},
   "outputs": [],
   "source": [
    "mbh = MaxBinaryHeap()"
   ]
  },
  {
   "cell_type": "code",
   "execution_count": 66,
   "metadata": {},
   "outputs": [],
   "source": [
    "for i in np.random.randint(2, 500, 8):\n",
    "    mbh.insert(i)"
   ]
  },
  {
   "cell_type": "code",
   "execution_count": 67,
   "metadata": {},
   "outputs": [
    {
     "name": "stdout",
     "output_type": "stream",
     "text": [
      "Nodes of graph:  ['ROOT: 488', '1L: 446', '1R: 261', '2L: 423', '2R: 20', '2L: 21', '2R: 54', '3L: 16']\n"
     ]
    },
    {
     "data": {
      "image/png": "[encoded data removed]",
      "text/plain": [
       "<Figure size 432x288 with 1 Axes>"
      ]
     },
     "metadata": {},
     "output_type": "display_data"
    }
   ],
   "source": [
    "mbh.graph()"
   ]
  },
  {
   "cell_type": "code",
   "execution_count": 177,
   "metadata": {},
   "outputs": [],
   "source": [
    "mbh2 = MaxBinaryHeap()\n",
    "lst = [55,39,41,18,27,12,33]\n",
    "for i in lst:\n",
    "    mbh2.insert(i)"
   ]
  },
  {
   "cell_type": "code",
   "execution_count": 178,
   "metadata": {},
   "outputs": [
    {
     "name": "stdout",
     "output_type": "stream",
     "text": [
      "Nodes of graph:  ['ROOT: 55', '1L: 39', '1R: 41', '2L: 18', '2R: 27', '2L: 12', '2R: 33']\n",
      "Binary Heap values:  [55, 39, 41, 18, 27, 12, 33]\n"
     ]
    },
    {
     "data": {
      "image/png": "[encoded data removed]",
      "text/plain": [
       "<Figure size 432x288 with 1 Axes>"
      ]
     },
     "metadata": {},
     "output_type": "display_data"
    }
   ],
   "source": [
    "mbh2.graph()"
   ]
  },
  {
   "cell_type": "markdown",
   "metadata": {},
   "source": [
    "### Priority Queue\n",
    "\n",
    "#### A data structure where each element has a priority. \n",
    "#### Elements with a higher priorities are served before elements with lower prioritirs"
   ]
  },
  {
   "cell_type": "code",
   "execution_count": 153,
   "metadata": {},
   "outputs": [],
   "source": [
    "class Node:\n",
    "    \"\"\"PiorityQueue Node\"\"\"\n",
    "    \n",
    "    def __init__(self, value, priority):\n",
    "        self.value = value\n",
    "        self.priority = priority"
   ]
  },
  {
   "cell_type": "code",
   "execution_count": 168,
   "metadata": {},
   "outputs": [],
   "source": [
    "class PriorityQueue:\n",
    "    \n",
    "    def __init__(self):\n",
    "        self.values = []\n",
    "        \n",
    "        \n",
    "    def enqueue(self, value, priority):\n",
    "        \"\"\"\n",
    "        Enqueue method accepts a value and priority, makes a new node,\n",
    "        and puts in the right spot based off of its priority\n",
    "        \"\"\"\n",
    "        \n",
    "        new_node = Node(value, priority)\n",
    "        # append the value into the values property on the heap\n",
    "        self.values.append(new_node)\n",
    "        self.bubble_up()\n",
    "        \n",
    "        \n",
    "    def bubble_up(self):\n",
    "        \"\"\"\n",
    "        Method to 'bubble up' last node in values list\n",
    "        to the correct spot\n",
    "        \"\"\"\n",
    "        idx = len(self.values)-1\n",
    "        element = self.values[idx]\n",
    "        parent_idx = int((idx-1)/2)\n",
    "        parent = self.values[parent_idx]\n",
    "        \n",
    "        # keep looping as long as the values element at the parent_index\n",
    "        # is less than the values element at the child index\n",
    "        while idx > 0 and element.priority < parent.priority:\n",
    "            # swap the value of the values element at the parent_index\n",
    "            # with the value of the element property at the child index\n",
    "            self.values[parent_idx], self.values[idx] =  self.values[idx], self.values[parent_idx]\n",
    "            # set the index to be parent_index, and start over\n",
    "            idx = parent_idx\n",
    "            parent_idx = int((idx-1)/2)\n",
    "            parent = self.values[parent_idx]\n",
    "            \n",
    "        return self\n",
    "        \n",
    "        \n",
    "    def dequeue(self):\n",
    "        \"\"\"\n",
    "        Romoves root from the heap. Rearrange values in heap.\n",
    "        Returns old root\n",
    "        \"\"\"\n",
    "        if not self.values:\n",
    "            return None\n",
    "        # swap the first value in values property with the last one\n",
    "        last_index = len(self.values) - 1 \n",
    "        self.values[0], self.values[last_index] = self.values[last_index], self.values[0]\n",
    "        # pop from the values property to return the value at the end\n",
    "        ex_root = self.values.pop()\n",
    "        # call sink_down function to place 'new root' to correct spot\n",
    "        if self.values:\n",
    "            self.sink_down()\n",
    "        \n",
    "        return ex_root\n",
    "        \n",
    "    \n",
    "    def sink_down(self):\n",
    "        \"\"\"Function to 'sink-down' root to the correct spot\"\"\"\n",
    "        \n",
    "        # parent index starts at 0\n",
    "        idx = 0\n",
    "        length = len(self.values)\n",
    "        element = self.values[0]\n",
    "        while True:\n",
    "            # left child index\n",
    "            left_child_idx = 2 * idx + 1\n",
    "            # right child index\n",
    "            right_child_idx = 2 * idx + 2\n",
    "            # index of element to swap with\n",
    "            swap = None\n",
    "            \n",
    "            # need to swap parent element with the largest child\n",
    "            # if child is greater than parent\n",
    "            \n",
    "            # if left child exist\n",
    "            if left_child_idx < length:\n",
    "                left_child = self.values[left_child_idx]\n",
    "                # and left child is greater than element to 'sink-down'\n",
    "                if left_child.priority < element.priority:\n",
    "                    # swap index is left child index\n",
    "                    swap = left_child_idx\n",
    "            # if right child exist\n",
    "            if right_child_idx < length:\n",
    "                right_child = self.values[right_child_idx]\n",
    "                # if swap index was not found before (left child is less than element)\n",
    "                # and right child is greater than element\n",
    "                # or if swap index was found before (lift child is greater than element)\n",
    "                # but right child is greater than left child\n",
    "                if (not swap and right_child.priority < element.priority) or \\\n",
    "                    (swap and right_child.priority < left_child.priority):\n",
    "                        # swap index is right child index\n",
    "                        swap = right_child_idx\n",
    "            # if left and right children is less then element\n",
    "            # then parent element is in correct spot\n",
    "            if not swap:\n",
    "                break\n",
    "            # if swap index was found swap parent with one of children\n",
    "            self.values[idx], self.values[swap] = self.values[swap], self.values[idx]\n",
    "            # index of parent element after swap\n",
    "            idx = swap\n",
    "            \n",
    "            \n",
    "    def graph(self):\n",
    "        \"\"\"\n",
    "        Builds Piority Queue graph with node tree level, \n",
    "        priority and value labels\n",
    "        \"\"\"\n",
    "        \n",
    "        nodes = self.values\n",
    "        # string representation of nodes\n",
    "        nodes_str = []\n",
    "        \n",
    "        if not len(nodes):\n",
    "            return None\n",
    "        max_graph = nx.Graph()\n",
    "        root_node = nodes[0]\n",
    "        # string representation of root node\n",
    "        root_node_str = f'ROOT(P: {root_node.priority}, V: {root_node.value})' \n",
    "        nodes_str.append(root_node_str)\n",
    "        # add root node on graph\n",
    "        max_graph.add_node(root_node_str)\n",
    "        for i in range(len(nodes)):\n",
    "            # left and right children indexes of the current parent element\n",
    "            left_child_idx = 2*i + 1\n",
    "            right_child_idx = 2*i + 2\n",
    "            # binary tree level of parent element\n",
    "            parent_level = int(math.log2(i+1))\n",
    "            # if left child exist\n",
    "            if len(nodes) > left_child_idx:\n",
    "                left_child = nodes[left_child_idx]\n",
    "                # string representation of left child\n",
    "                left_child_str = f'{parent_level+1}L(P: {left_child.priority}, V: {left_child.value})'\n",
    "                nodes_str.append(left_child_str)\n",
    "                # add left child on graph and draw connection with parent\n",
    "                max_graph.add_node(left_child_str)\n",
    "                max_graph.add_edge(nodes_str[i], left_child_str)\n",
    "            # if right child exist\n",
    "            if len(nodes) > right_child_idx:\n",
    "                right_child = nodes[right_child_idx]\n",
    "                # string representation of right child\n",
    "                right_child_str = f'{parent_level+1}R(P: {right_child.priority}, V: {right_child.value})'\n",
    "                nodes_str.append(right_child_str)\n",
    "                # add right child on graph and draw connection with parent\n",
    "                max_graph.add_node(right_child_str)\n",
    "                max_graph.add_edge(nodes_str[i], right_child_str)\n",
    "        \n",
    "        print(\"Nodes of graph: \", max_graph.nodes())\n",
    "        nx.draw(max_graph, with_labels = True)\n",
    "        plt.show()"
   ]
  },
  {
   "cell_type": "code",
   "execution_count": 169,
   "metadata": {},
   "outputs": [],
   "source": [
    "er = PiorityQueue()"
   ]
  },
  {
   "cell_type": "code",
   "execution_count": 170,
   "metadata": {},
   "outputs": [],
   "source": [
    "queue_lst = [('common cold', 5), ('gunshot wound', 1), ('high fever', 4), ('broken arm', 2), ('glass in foot', 3)]"
   ]
  },
  {
   "cell_type": "code",
   "execution_count": 171,
   "metadata": {},
   "outputs": [],
   "source": [
    "for value, priority in queue_lst:\n",
    "    er.enqueue(value, priority)"
   ]
  },
  {
   "cell_type": "code",
   "execution_count": 172,
   "metadata": {},
   "outputs": [
    {
     "name": "stdout",
     "output_type": "stream",
     "text": [
      "Nodes of graph:  ['ROOT(P: 1, V: gunshot wound)', '1L(P: 2, V: broken arm)', '1R(P: 4, V: high fever)', '2L(P: 5, V: common cold)', '2R(P: 3, V: glass in foot)']\n"
     ]
    },
    {
     "data": {
      "image/png": "[encoded data removed]",
      "text/plain": [
       "<Figure size 432x288 with 1 Axes>"
      ]
     },
     "metadata": {},
     "output_type": "display_data"
    }
   ],
   "source": [
    "er.graph()"
   ]
  },
  {
   "cell_type": "code",
   "execution_count": null,
   "metadata": {},
   "outputs": [],
   "source": []
  }
 ],
 "metadata": {
  "kernelspec": {
   "display_name": "Python 3",
   "language": "python",
   "name": "python3"
  },
  "language_info": {
   "codemirror_mode": {
    "name": "ipython",
    "version": 3
   },
   "file_extension": ".py",
   "mimetype": "text/x-python",
   "name": "python",
   "nbconvert_exporter": "python",
   "pygments_lexer": "ipython3",
   "version": "3.7.6"
  }
 },
 "nbformat": 4,
 "nbformat_minor": 2
}
