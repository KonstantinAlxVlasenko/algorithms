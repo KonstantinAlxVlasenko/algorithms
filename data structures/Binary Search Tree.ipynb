{
 "cells": [
  {
   "cell_type": "markdown",
   "metadata": {},
   "source": [
    "# Binary Search Tree"
   ]
  },
  {
   "cell_type": "markdown",
   "metadata": {},
   "source": [
    "#### A binary search tree is a rooted binary tree, whose internal nodes each store a key (and optionally, an associated value) and each have two distinguished sub-trees, commonly denoted left and right. The tree additionally satisfies the binary search property, which states that the key in each node must be greater than or equal to any key stored in the left sub-tree, and less than or equal to any key stored in the right sub-tree. The leaves (final nodes) of the tree contain no key and have no structure to distinguish them from one another. "
   ]
  },
  {
   "cell_type": "markdown",
   "metadata": {},
   "source": [
    "## Tree Terminology\n",
    "\n",
    "#### Root - The top in a tree\n",
    "#### Child - A node directly connected to another node when moving away from the Roor\n",
    "#### Parent - The converse notion of a child\n",
    "#### Sibling - Agroup of nodes with the same parent\n",
    "#### Leaf - A node with no children"
   ]
  },
  {
   "cell_type": "markdown",
   "metadata": {},
   "source": [
    "### Big O\n",
    "#### Insertion - O(logN)\n",
    "#### Searching - O(logN)\n",
    "#### For worst cases O(N)"
   ]
  },
  {
   "cell_type": "code",
   "execution_count": 1,
   "metadata": {},
   "outputs": [],
   "source": [
    "import networkx as nx\n",
    "import numpy as np\n",
    "import matplotlib.pyplot as plt"
   ]
  },
  {
   "cell_type": "code",
   "execution_count": 2,
   "metadata": {},
   "outputs": [],
   "source": [
    "class Node:\n",
    "    \"\"\"Class to create Node of the BST\"\"\"\n",
    "    \n",
    "    def __init__(self, value):\n",
    "        self.value = value\n",
    "        self.left = None\n",
    "        self.right = None"
   ]
  },
  {
   "cell_type": "code",
   "execution_count": 12,
   "metadata": {},
   "outputs": [],
   "source": [
    "class BinarySearchTree:\n",
    "    \"\"\"Class to create BST\"\"\"\n",
    "    \n",
    "    def __init__(self):\n",
    "        self.root = None\n",
    "        \n",
    "    \n",
    "    def insert(self, value):\n",
    "        \"\"\"Inserting a node in a BST. Returns updated BST\"\"\"\n",
    "        \n",
    "        # create a new node\n",
    "        new_node = Node(value)\n",
    "        # check if there is a root, if not - the root now becomes\n",
    "        # that new node\n",
    "        if not self.root:\n",
    "            self.root = new_node\n",
    "            return self\n",
    "        # if there is a root, check if the value of the new node is \n",
    "        # greater than or less than value of the root\n",
    "        current_node = self.root\n",
    "        while True:\n",
    "            # if greater\n",
    "            if new_node.value > current_node.value:\n",
    "                # check if there is no node to the right\n",
    "                if not current_node.right:\n",
    "                    # add new node as the right property\n",
    "                    current_node.right = new_node\n",
    "                    return self\n",
    "                # if there is a node move to that node\n",
    "                # and repeat steps\n",
    "                current_node = current_node.right\n",
    "            # if it is less\n",
    "            elif new_node.value < current_node.value:\n",
    "                # check if there is no node to the left\n",
    "                if not current_node.left:\n",
    "                    # add new node as the left property\n",
    "                    current_node.left = new_node\n",
    "                    return self\n",
    "                # if there is a node move to that node\n",
    "                # and repeat steps\n",
    "                current_node = current_node.left\n",
    "            # if new node value equal to current one (already exist\n",
    "            # in BST) than do nothing\n",
    "            else:\n",
    "                return None\n",
    "            \n",
    "    \n",
    "    def contains(self, value):\n",
    "        \"\"\"Check if BST contains a node. Returns True or False\"\"\"\n",
    "        \n",
    "        # check if there is a root\n",
    "        if not self.root:\n",
    "            return False\n",
    "        current_node = self.root\n",
    "        # check nodes until there is one\n",
    "        while current_node:\n",
    "            # if value is less than the current node value than\n",
    "            # move current node to node to the left\n",
    "            if value < current_node.value:\n",
    "                current_node = current_node.left\n",
    "            # if value is greater than the current node value than\n",
    "            # move current node to node to the right\n",
    "            elif value > current_node.value:\n",
    "                current_node = current_node.right\n",
    "            # if value is equal to current node value\n",
    "            else:\n",
    "                return True\n",
    "        return False\n",
    "    \n",
    "    \n",
    "    def bfs(self):\n",
    "        \"\"\"\n",
    "        Breadth first search. \n",
    "        Visit every node on the same BST level\n",
    "        Check every sibling node before look at a child\"\"\"\n",
    "        \n",
    "        # 'queue' (First In First Out) to track nodes to check\n",
    "        queue = []\n",
    "        # list to store the values of the nodes visited\n",
    "        visited = []\n",
    "        # place the root node in the queue\n",
    "        queue.append(self.root)\n",
    "        while queue:\n",
    "            # dequeue a node from the queue and \n",
    "            current_node = queue.pop(0)\n",
    "            # append the value of the node into the visited list\n",
    "            visited.append(current_node.value)\n",
    "            # if there is a left property on the node dequeued\n",
    "            if current_node.left:\n",
    "                # add left node to the queue\n",
    "                queue.append(current_node.left)\n",
    "            # if there is a right property on the node dequeued\n",
    "            if current_node.right:\n",
    "                # add right node to the queue\n",
    "                queue.append(current_node.right)\n",
    "        return visited\n",
    "\n",
    "    \n",
    "    def nodes_connection(self):\n",
    "        \"\"\"\n",
    "        Returns list with nodes values with left and right nodes, bst level\n",
    "        in format (left value, value, value bst level, right value)\n",
    "        Uses BFS approach\n",
    "        \"\"\"\n",
    "        \n",
    "        queue = []\n",
    "        visited = []\n",
    "        bst_level = 0\n",
    "        queue.append([self.root, bst_level])\n",
    "        while queue:\n",
    "            \n",
    "            current_node, bst_level = queue.pop(0)\n",
    "            if current_node.left and current_node.right:\n",
    "                visited.append((current_node.left.value, current_node.value, bst_level, current_node.right.value))\n",
    "                queue.append([current_node.left, bst_level + 1])\n",
    "                queue.append([current_node.right, bst_level + 1])\n",
    "            elif current_node.left and not current_node.right:\n",
    "                visited.append((current_node.left.value, current_node.value, bst_level, None))\n",
    "                queue.append([current_node.left, bst_level + 1])\n",
    "            elif current_node.right and not current_node.left:\n",
    "                visited.append((None, current_node.value, bst_level, current_node.right.value))\n",
    "                queue.append([current_node.right, bst_level + 1])\n",
    "            else:\n",
    "                visited.append((None, current_node.value, bst_level, None))\n",
    "        return visited\n",
    "    \n",
    "    \n",
    "    def nodes_interconnection(self):\n",
    "        \"\"\"\n",
    "        Returns list with nodes values with left and right nodes, bst level\n",
    "        in format (left value, value, value bst level, right value)\n",
    "        Uses BFS approach\n",
    "        \"\"\"\n",
    "        \n",
    "        queue = []\n",
    "        visited = []\n",
    "        bst_level = 0\n",
    "        queue.append([self.root, bst_level])\n",
    "        while queue:\n",
    "            \n",
    "            current_node, bst_level = queue.pop(0)\n",
    "            if current_node.left and current_node.right:\n",
    "                visited.append((current_node.left, current_node, bst_level, current_node.right))\n",
    "                queue.append([current_node.left, bst_level + 1])\n",
    "                queue.append([current_node.right, bst_level + 1])\n",
    "            elif current_node.left and not current_node.right:\n",
    "                visited.append((current_node.left, current_node, bst_level, None))\n",
    "                queue.append([current_node.left, bst_level + 1])\n",
    "            elif current_node.right and not current_node.left:\n",
    "                visited.append((None, current_node, bst_level, current_node.right))\n",
    "                queue.append([current_node.right, bst_level + 1])\n",
    "            else:\n",
    "                visited.append((None, current_node, bst_level, None))\n",
    "        return visited\n",
    "    \n",
    "    \n",
    "    def graph(self):\n",
    "        \"\"\"\n",
    "        Builds BST graph with node level and L(eft) or R(ight) labels \n",
    "        \"\"\"\n",
    "        \n",
    "        nodes = self.nodes_connection()\n",
    "        bst_graph = nx.DiGraph()\n",
    "        if self.root:\n",
    "            root_value = self.root.value\n",
    "        nodes_rename_dct = {}\n",
    "        for node in nodes:\n",
    "            bst_graph.add_node(node[1])\n",
    "            if node[0]:\n",
    "                nodes_rename_dct[node[0]] = f'{node[2]+1}L: {str(node[0])}'\n",
    "                bst_graph.add_node(node[0])\n",
    "                bst_graph.add_edge(node[1], node[0])\n",
    "            if node[3]:\n",
    "                nodes_rename_dct[node[3]] = f'{node[2]+1}R: {str(node[3])}'\n",
    "                bst_graph.add_node(node[3])\n",
    "                bst_graph.add_edge(node[1], node[3])\n",
    "        \n",
    "        nodes_rename_dct[root_value] = 'ROOT: ' + str(root_value)\n",
    "        print(\"Nodes of graph: \", bst_graph.nodes())\n",
    "        bst_graph = nx.relabel_nodes(bst_graph, nodes_rename_dct)\n",
    "        nx.draw(bst_graph, with_labels = True)\n",
    "        plt.show()\n",
    "     \n",
    "\n",
    "    def dfs_preorder(self):\n",
    "        \"\"\"\n",
    "        Depth First Search PreOrder\n",
    "        Traverse nodes vertically down till the end of the tree\n",
    "        before visiting sibling nodes.\n",
    "        Visit a node first then left side checked then right side.\n",
    "        Root is the first node that visited.\n",
    "        \"\"\"\n",
    "        # list to store the values of nodes visited\n",
    "        values = []\n",
    "        # helper function which accepts a node\n",
    "        def traverse(node):\n",
    "            # append node value to the values list \n",
    "            values.append(node.value)\n",
    "            # if the node has a left property, call helper\n",
    "            # function with the left property on the node\n",
    "            if node.left:\n",
    "                traverse(node.left)\n",
    "            # if the node has a right property, call helper\n",
    "            # function with the right property on the node\n",
    "            if node.right:\n",
    "                traverse(node.right)   \n",
    "        # invoke helper function with root node\n",
    "        traverse(self.root)\n",
    "\n",
    "        return values\n",
    "\n",
    "\n",
    "    def dfs_postorder(self):\n",
    "        \"\"\"\n",
    "        Depth First Search PostOrder\n",
    "        Traverse nodes vertically down till the end of the tree\n",
    "        before visiting sibling nodes.\n",
    "        Visit a node after left and right side checked. \n",
    "        Traverse entire tree then visit a node. \n",
    "        Root is the last node that visited.\n",
    "        \"\"\"\n",
    "        \n",
    "        # list to store the values of nodes visited\n",
    "        values = []\n",
    "        # helper function which accepts a node\n",
    "        def traverse(node):\n",
    "            # if the node has a left property, call helper\n",
    "            # function with the left property on the node\n",
    "            if node.left:\n",
    "                traverse(node.left)\n",
    "            # if the node has a right property, call helper\n",
    "            # function with the right property on the node\n",
    "            if node.right:\n",
    "                traverse(node.right)\n",
    "            # append node value to the values list \n",
    "            values.append(node.value)\n",
    "        # invoke helper function with root node\n",
    "        traverse(self.root)\n",
    "        \n",
    "        return values\n",
    "    \n",
    "    \n",
    "    def dfs_inorder(self):\n",
    "        \"\"\"\n",
    "        Depth First Search InOrder\n",
    "        Traverse nodes vertically down till the end of the tree\n",
    "        before visiting sibling nodes.\n",
    "        Traverse entire left side then visit a node and then traverse\n",
    "        the enire right side.\n",
    "        Root visited after left side checked.\n",
    "        \"\"\"\n",
    "        \n",
    "        # list to store the values of nodes visited\n",
    "        values = []\n",
    "        # helper function which accepts a node\n",
    "        def traverse(node):\n",
    "            # if the node has a left property, call helper\n",
    "            # function with the left property on the node\n",
    "            if node.left:\n",
    "                traverse(node.left)\n",
    "            # append node value to the values list \n",
    "            values.append(node.value)\n",
    "            # if the node has a right property, call helper\n",
    "            # function with the right property on the node\n",
    "            if node.right:\n",
    "                traverse(node.right)\n",
    "\n",
    "        # invoke helper function with root node\n",
    "        traverse(self.root)\n",
    "        \n",
    "        return values\n",
    "                \n",
    "\n",
    "    def remove(self, data):\n",
    "        # empty tree\n",
    "        if self.root is None:\n",
    "            return False\n",
    "\n",
    "        # data is in root node\t\n",
    "        elif self.root.value == data:\n",
    "            if self.root.left is None and self.root.right is None:\n",
    "                self.root = None\n",
    "            elif self.root.left and self.root.right is None:\n",
    "                self.root = self.root.left\n",
    "            elif self.root.left is None and self.root.right:\n",
    "                self.root = self.root.right\n",
    "            elif self.root.left and self.root.right:\n",
    "                delNodeParent = self.root\n",
    "                delNode = self.root.right\n",
    "                while delNode.left:\n",
    "                    delNodeParent = delNode\n",
    "                    delNode = delNode.left\n",
    "\n",
    "                self.root.value = delNode.value\n",
    "                if delNode.right:\n",
    "                    if delNodeParent.value > delNode.value:\n",
    "                        delNodeParent.left = delNode.right\n",
    "                    elif delNodeParent.value < delNode.value:\n",
    "                        delNodeParent.right = delNode.right\n",
    "                else:\n",
    "                    if delNode.value < delNodeParent.value:\n",
    "                        delNodeParent.left = None\n",
    "                    else:\n",
    "                        delNodeParent.right = None\n",
    "\n",
    "            return True\n",
    "\n",
    "        parent = None\n",
    "        node = self.root\n",
    "\n",
    "        # find node to remove\n",
    "        while node and node.value != data:\n",
    "            parent = node\n",
    "            if data < node.value:\n",
    "                node = node.left\n",
    "            elif data > node.value:\n",
    "                node = node.right\n",
    "\n",
    "        # case 1: data not found\n",
    "        if node is None or node.value != data:\n",
    "            return False\n",
    "\n",
    "        # case 2: remove-node has no children\n",
    "        elif node.left is None and node.right is None:\n",
    "            if data < parent.value:\n",
    "                parent.left = None\n",
    "            else:\n",
    "                parent.right = None\n",
    "            return True\n",
    "\n",
    "        # case 3: remove-node has left child only\n",
    "        elif node.left and node.right is None:\n",
    "            if data < parent.value:\n",
    "                parent.left = node.left\n",
    "            else:\n",
    "                parent.right = node.left\n",
    "            return True\n",
    "\n",
    "        # case 4: remove-node has right child only\n",
    "        elif node.left is None and node.right:\n",
    "            if data < parent.value:\n",
    "                parent.left = node.right\n",
    "            else:\n",
    "                parent.right = node.right\n",
    "            return True\n",
    "\n",
    "        # case 5: remove-node has left and right children\n",
    "        else:\n",
    "            delNodeParent = node\n",
    "            delNode = node.right\n",
    "            while delNode.left:\n",
    "                delNodeParent = delNode\n",
    "                delNode = delNode.left\n",
    "\n",
    "            node.value = delNode.value\n",
    "            if delNode.right:\n",
    "                if delNodeParent.value > delNode.value:\n",
    "                    delNodeParent.left = delNode.right\n",
    "                elif delNodeParent.value < delNode.value:\n",
    "                    delNodeParent.right = delNode.right\n",
    "            else:\n",
    "                if delNode.value < delNodeParent.value:\n",
    "                    delNodeParent.left = None\n",
    "                else:\n",
    "                    delNodeParent.right = None"
   ]
  },
  {
   "cell_type": "code",
   "execution_count": 13,
   "metadata": {},
   "outputs": [],
   "source": [
    "bst = BinarySearchTree()"
   ]
  },
  {
   "cell_type": "code",
   "execution_count": 14,
   "metadata": {},
   "outputs": [],
   "source": [
    "# lst = [67,56,23,45,98,34,98,12,31,87,29,25,38]\n",
    "lst = [67,56,23,45,98,34]\n",
    "for i in lst:\n",
    "    bst.insert(i)"
   ]
  },
  {
   "cell_type": "code",
   "execution_count": 15,
   "metadata": {},
   "outputs": [
    {
     "data": {
      "text/plain": [
       "[67, 56, 23, 45, 34, 98]"
      ]
     },
     "execution_count": 15,
     "metadata": {},
     "output_type": "execute_result"
    }
   ],
   "source": [
    "bst.dfs_preorder()"
   ]
  },
  {
   "cell_type": "code",
   "execution_count": 16,
   "metadata": {},
   "outputs": [
    {
     "data": {
      "text/plain": [
       "[34, 45, 23, 56, 98, 67]"
      ]
     },
     "execution_count": 16,
     "metadata": {},
     "output_type": "execute_result"
    }
   ],
   "source": [
    "bst.dfs_postorder()"
   ]
  },
  {
   "cell_type": "code",
   "execution_count": 17,
   "metadata": {},
   "outputs": [
    {
     "data": {
      "text/plain": [
       "[23, 34, 45, 56, 67, 98]"
      ]
     },
     "execution_count": 17,
     "metadata": {},
     "output_type": "execute_result"
    }
   ],
   "source": [
    "bst.dfs_inorder()"
   ]
  },
  {
   "cell_type": "code",
   "execution_count": 18,
   "metadata": {
    "scrolled": true
   },
   "outputs": [
    {
     "data": {
      "text/plain": [
       "[(56, 67, 0, 98),\n",
       " (23, 56, 1, None),\n",
       " (None, 98, 1, None),\n",
       " (None, 23, 2, 45),\n",
       " (34, 45, 3, None),\n",
       " (None, 34, 4, None)]"
      ]
     },
     "execution_count": 18,
     "metadata": {},
     "output_type": "execute_result"
    }
   ],
   "source": [
    "bst.nodes_connection()"
   ]
  },
  {
   "cell_type": "code",
   "execution_count": 19,
   "metadata": {
    "scrolled": true
   },
   "outputs": [
    {
     "name": "stdout",
     "output_type": "stream",
     "text": [
      "Nodes of graph:  [67, 56, 98, 23, 45, 34]\n"
     ]
    },
    {
     "data": {
      "image/png": "[encoded data removed]",
      "text/plain": [
       "<Figure size 432x288 with 1 Axes>"
      ]
     },
     "metadata": {},
     "output_type": "display_data"
    }
   ],
   "source": [
    "bst.graph()"
   ]
  },
  {
   "cell_type": "code",
   "execution_count": 20,
   "metadata": {},
   "outputs": [
    {
     "data": {
      "text/plain": [
       "<__main__.BinarySearchTree at 0x7fdb0239fb90>"
      ]
     },
     "execution_count": 20,
     "metadata": {},
     "output_type": "execute_result"
    }
   ],
   "source": [
    "bst.insert(64)"
   ]
  },
  {
   "cell_type": "code",
   "execution_count": 21,
   "metadata": {},
   "outputs": [
    {
     "data": {
      "text/plain": [
       "<__main__.BinarySearchTree at 0x7fdb0239fb90>"
      ]
     },
     "execution_count": 21,
     "metadata": {},
     "output_type": "execute_result"
    }
   ],
   "source": [
    "bst.insert(156)"
   ]
  },
  {
   "cell_type": "code",
   "execution_count": 22,
   "metadata": {},
   "outputs": [
    {
     "data": {
      "text/plain": [
       "<__main__.BinarySearchTree at 0x7fdb0239fb90>"
      ]
     },
     "execution_count": 22,
     "metadata": {},
     "output_type": "execute_result"
    }
   ],
   "source": [
    "bst.insert(111)"
   ]
  },
  {
   "cell_type": "code",
   "execution_count": 23,
   "metadata": {},
   "outputs": [
    {
     "name": "stdout",
     "output_type": "stream",
     "text": [
      "Nodes of graph:  [67, 56, 98, 23, 64, 156, 45, 111, 34]\n"
     ]
    },
    {
     "data": {
      "image/png": "[encoded data removed]",
      "text/plain": [
       "<Figure size 432x288 with 1 Axes>"
      ]
     },
     "metadata": {},
     "output_type": "display_data"
    }
   ],
   "source": [
    "bst.graph()"
   ]
  },
  {
   "cell_type": "code",
   "execution_count": 24,
   "metadata": {
    "scrolled": true
   },
   "outputs": [],
   "source": [
    "bst.insert(111)"
   ]
  },
  {
   "cell_type": "code",
   "execution_count": 25,
   "metadata": {},
   "outputs": [
    {
     "name": "stdout",
     "output_type": "stream",
     "text": [
      "Nodes of graph:  [67, 56, 98, 23, 64, 156, 45, 111, 34]\n"
     ]
    },
    {
     "data": {
      "image/png": "[encoded data removed]",
      "text/plain": [
       "<Figure size 432x288 with 1 Axes>"
      ]
     },
     "metadata": {},
     "output_type": "display_data"
    }
   ],
   "source": [
    "bst.graph()"
   ]
  },
  {
   "cell_type": "code",
   "execution_count": 67,
   "metadata": {},
   "outputs": [],
   "source": [
    "bst2 = BinarySearchTree()"
   ]
  },
  {
   "cell_type": "code",
   "execution_count": 68,
   "metadata": {},
   "outputs": [],
   "source": [
    "for i in np.random.randint(1, 500, 10):\n",
    "    bst2.insert(i)"
   ]
  },
  {
   "cell_type": "code",
   "execution_count": 69,
   "metadata": {},
   "outputs": [
    {
     "name": "stdout",
     "output_type": "stream",
     "text": [
      "Nodes of graph:  [420, 226, 137, 408, 171, 287, 156, 398, 140, 149]\n"
     ]
    },
    {
     "data": {
      "image/png": "[encoded data removed]",
      "text/plain": [
       "<Figure size 432x288 with 1 Axes>"
      ]
     },
     "metadata": {},
     "output_type": "display_data"
    }
   ],
   "source": [
    "bst2.graph()"
   ]
  },
  {
   "cell_type": "code",
   "execution_count": 64,
   "metadata": {},
   "outputs": [
    {
     "data": {
      "text/plain": [
       "True"
      ]
     },
     "execution_count": 64,
     "metadata": {},
     "output_type": "execute_result"
    }
   ],
   "source": [
    "bst2.remove(474)"
   ]
  },
  {
   "cell_type": "code",
   "execution_count": 66,
   "metadata": {},
   "outputs": [
    {
     "name": "stdout",
     "output_type": "stream",
     "text": [
      "Nodes of graph:  [176, 76, 312, 102, 302, 456, 220, 363, 469]\n"
     ]
    },
    {
     "data": {
      "image/png": "[encoded data removed]",
      "text/plain": [
       "<Figure size 432x288 with 1 Axes>"
      ]
     },
     "metadata": {},
     "output_type": "display_data"
    }
   ],
   "source": [
    "bst2.graph()"
   ]
  },
  {
   "cell_type": "code",
   "execution_count": null,
   "metadata": {},
   "outputs": [],
   "source": []
  }
 ],
 "metadata": {
  "kernelspec": {
   "display_name": "Python 3",
   "language": "python",
   "name": "python3"
  },
  "language_info": {
   "codemirror_mode": {
    "name": "ipython",
    "version": 3
   },
   "file_extension": ".py",
   "mimetype": "text/x-python",
   "name": "python",
   "nbconvert_exporter": "python",
   "pygments_lexer": "ipython3",
   "version": "3.7.7"
  }
 },
 "nbformat": 4,
 "nbformat_minor": 2
}
