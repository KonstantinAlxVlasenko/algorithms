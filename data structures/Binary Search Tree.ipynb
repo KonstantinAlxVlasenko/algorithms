{
 "cells": [
  {
   "cell_type": "markdown",
   "metadata": {},
   "source": [
    "# Binary Search Tree"
   ]
  },
  {
   "cell_type": "code",
   "execution_count": 96,
   "metadata": {},
   "outputs": [],
   "source": [
    "### Big O\n",
    "#### Insertion - O(logN)\n",
    "#### Searching - O(logN)\n",
    "#### For worst cases O(N)"
   ]
  },
  {
   "cell_type": "code",
   "execution_count": 134,
   "metadata": {},
   "outputs": [],
   "source": [
    "import networkx as nx\n",
    "import matplotlib.pyplot as plt"
   ]
  },
  {
   "cell_type": "code",
   "execution_count": 101,
   "metadata": {},
   "outputs": [],
   "source": [
    "class Node:\n",
    "    \"\"\"Class to create Node of the BST\"\"\"\n",
    "    \n",
    "    def __init__(self, value):\n",
    "        self.value = value\n",
    "        self.left = None\n",
    "        self.right = None"
   ]
  },
  {
   "cell_type": "code",
   "execution_count": 176,
   "metadata": {},
   "outputs": [],
   "source": [
    "class BinarySearchTree:\n",
    "    \"\"\"Class to create BST\"\"\"\n",
    "    \n",
    "    def __init__(self):\n",
    "        self.root = None\n",
    "        \n",
    "    \n",
    "    def insert(self, value):\n",
    "        \"\"\"Inserting a node in a BST. Returns updated BST\"\"\"\n",
    "        \n",
    "        # create a new node\n",
    "        new_node = Node(value)\n",
    "        # check if there is a root, if not - the root now becomes\n",
    "        # that new node\n",
    "        if not self.root:\n",
    "            self.root = new_node\n",
    "            return self\n",
    "        # if there is a root, check if the value of the new node is \n",
    "        # greater than or less than value of the root\n",
    "        current_node = self.root\n",
    "        while True:\n",
    "            # if greater\n",
    "            if new_node.value > current_node.value:\n",
    "                # check if there is no node to the right\n",
    "                if not current_node.right:\n",
    "                    # add new node as the right property\n",
    "                    current_node.right = new_node\n",
    "                    return self\n",
    "                # if there is a node move to that node\n",
    "                # and repeat steps\n",
    "                current_node = current_node.right\n",
    "            # if it is less\n",
    "            elif new_node.value < current_node.value:\n",
    "                # check if there is no node to the left\n",
    "                if not current_node.left:\n",
    "                    # add new node as the left property\n",
    "                    current_node.left = new_node\n",
    "                    return self\n",
    "                # if there is a node move to that node\n",
    "                # and repeat steps\n",
    "                current_node = current_node.left\n",
    "            # if new node value equal to current one (already exist\n",
    "            # in BST) than do nothing\n",
    "            else:\n",
    "                return None\n",
    "            \n",
    "    \n",
    "    def contains(self, value):\n",
    "        \"\"\"Check if BST contains a node. Returns True or False\"\"\"\n",
    "        \n",
    "        # check if there is a root\n",
    "        if not self.root:\n",
    "            return False\n",
    "        current_node = self.root\n",
    "        # check nodes until there is one\n",
    "        while current_node:\n",
    "            # if value is less than the current node value than\n",
    "            # move current node to node to the left\n",
    "            if value < current_node.value:\n",
    "                current_node = current_node.left\n",
    "            # if value is greater than the current node value than\n",
    "            # move current node to node to the right\n",
    "            elif value > current_node.value:\n",
    "                current_node = current_node.right\n",
    "            # if value is equal to current node value\n",
    "            else:\n",
    "                return True\n",
    "        return False\n",
    "    \n",
    "    \n",
    "    def bfs(self):\n",
    "        \"\"\"\n",
    "        Breadth first search. \n",
    "        Visit every node on the same BST level\n",
    "        Check every sibling node before look at a child\"\"\"\n",
    "        \n",
    "        # 'queue' (First In First Out) to track nodes to check\n",
    "        queue = []\n",
    "        # list to store the values of the nodes visited\n",
    "        visited = []\n",
    "        # place the root node in the queue\n",
    "        queue.append(self.root)\n",
    "        while queue:\n",
    "            # dequeue a node from the queue and \n",
    "            current_node = queue.pop(0)\n",
    "            # append the value of the node into the visited list\n",
    "            visited.append(current_node.value)\n",
    "            # if there is a left property on the node dequeued\n",
    "            if current_node.left:\n",
    "                # add left node to the queue\n",
    "                queue.append(current_node.left)\n",
    "            # if there is a right property on the node dequeued\n",
    "            if current_node.right:\n",
    "                # add right node to the queue\n",
    "                queue.append(current_node.right)\n",
    "        return visited\n",
    "\n",
    "    def nodes_connections(self):\n",
    "        \"\"\"\n",
    "        Returns list with nodes values with left and right nodes.\n",
    "        Uses BFS approach\n",
    "        \"\"\"\n",
    "        \n",
    "        queue = []\n",
    "        visited = []\n",
    "        queue.append(self.root)\n",
    "        while queue:\n",
    "            current_node = queue.pop(0)\n",
    "            if current_node.left and current_node.right:\n",
    "                visited.append((current_node.left.value, current_node.value, current_node.right.value))\n",
    "                queue.extend([current_node.left, current_node.right])\n",
    "            elif current_node.left and not current_node.right:\n",
    "                visited.append((current_node.left.value, current_node.value, None))\n",
    "                queue.append(current_node.left)\n",
    "            elif current_node.right and not current_node.left:\n",
    "                visited.append((None, current_node.value, current_node.right.value))\n",
    "                queue.append(current_node.right)\n",
    "            else:\n",
    "                visited.append((None, current_node.value, None))\n",
    "        return visited\n",
    "    \n",
    "    \n",
    "    def graph(self):\n",
    "        \"\"\"\n",
    "        Builds BST graph\n",
    "        \"\"\"\n",
    "        \n",
    "        nodes = self.nodes_connections()\n",
    "        bst_graph = nx.Graph()\n",
    "        if self.root:\n",
    "            root_value = self.root.value\n",
    "        for node in nodes:\n",
    "            bst_graph.add_node(node[1])\n",
    "            if node[0]:\n",
    "                bst_graph.add_node(node[0])\n",
    "                bst_graph.add_edge(node[1], node[0])\n",
    "            if node[2]:\n",
    "                bst_graph.add_node(node[2])\n",
    "                bst_graph.add_edge(node[1], node[2])\n",
    "        \n",
    "        print(\"Nodes of graph: \", bst_graph.nodes())\n",
    "        \n",
    "        bst_graph = nx.relabel_nodes(bst_graph, {root_value: 'ROOT ' + str(root_value)})\n",
    "        \n",
    "        nx.draw(bst_graph, with_labels = True)\n",
    "        \n",
    "        \n",
    "        def dfs(self):\n",
    "            \"\"\"\n",
    "            Depth First Search.\n",
    "            Traverse nodes vertically down till the end of the tree\n",
    "            before visiting sibling nodes\n",
    "            \"\"\""
   ]
  },
  {
   "cell_type": "code",
   "execution_count": 177,
   "metadata": {},
   "outputs": [],
   "source": [
    "bst = BinarySearchTree()"
   ]
  },
  {
   "cell_type": "code",
   "execution_count": 178,
   "metadata": {},
   "outputs": [],
   "source": [
    "lst = [67,56,23,45,98,34,98,12,31,87,29]\n",
    "for i in lst:\n",
    "    bst.insert(i)"
   ]
  },
  {
   "cell_type": "code",
   "execution_count": 179,
   "metadata": {},
   "outputs": [
    {
     "data": {
      "text/plain": [
       "<__main__.BinarySearchTree at 0x7fa87fde7f90>"
      ]
     },
     "execution_count": 179,
     "metadata": {},
     "output_type": "execute_result"
    }
   ],
   "source": [
    "bst.insert(25)"
   ]
  },
  {
   "cell_type": "code",
   "execution_count": 180,
   "metadata": {},
   "outputs": [
    {
     "data": {
      "text/plain": [
       "<__main__.BinarySearchTree at 0x7fa87fde7f90>"
      ]
     },
     "execution_count": 180,
     "metadata": {},
     "output_type": "execute_result"
    }
   ],
   "source": [
    "bst.insert(38)"
   ]
  },
  {
   "cell_type": "code",
   "execution_count": 181,
   "metadata": {},
   "outputs": [
    {
     "data": {
      "text/plain": [
       "True"
      ]
     },
     "execution_count": 181,
     "metadata": {},
     "output_type": "execute_result"
    }
   ],
   "source": [
    "bst.contains(38)"
   ]
  },
  {
   "cell_type": "code",
   "execution_count": 182,
   "metadata": {},
   "outputs": [
    {
     "data": {
      "text/plain": [
       "[67, 56, 98, 23, 87, 12, 45, 34, 31, 38, 29, 25]"
      ]
     },
     "execution_count": 182,
     "metadata": {},
     "output_type": "execute_result"
    }
   ],
   "source": [
    "bst.print_nodes()"
   ]
  },
  {
   "cell_type": "code",
   "execution_count": 183,
   "metadata": {
    "scrolled": true
   },
   "outputs": [
    {
     "data": {
      "text/plain": [
       "[(56, 67, 98),\n",
       " (23, 56, None),\n",
       " (87, 98, None),\n",
       " (12, 23, 45),\n",
       " (None, 87, None),\n",
       " (None, 12, None),\n",
       " (34, 45, None),\n",
       " (31, 34, 38),\n",
       " (29, 31, None),\n",
       " (None, 38, None),\n",
       " (25, 29, None),\n",
       " (None, 25, None)]"
      ]
     },
     "execution_count": 183,
     "metadata": {},
     "output_type": "execute_result"
    }
   ],
   "source": [
    "bst.nodes_connections()"
   ]
  },
  {
   "cell_type": "code",
   "execution_count": 184,
   "metadata": {
    "scrolled": true
   },
   "outputs": [
    {
     "name": "stdout",
     "output_type": "stream",
     "text": [
      "Nodes of graph:  [67, 56, 98, 23, 87, 12, 45, 34, 31, 38, 29, 25]\n"
     ]
    },
    {
     "data": {
      "image/png": "[encoded data removed]",
      "text/plain": [
       "<Figure size 432x288 with 1 Axes>"
      ]
     },
     "metadata": {},
     "output_type": "display_data"
    }
   ],
   "source": [
    "bst.graph()"
   ]
  },
  {
   "cell_type": "code",
   "execution_count": 185,
   "metadata": {},
   "outputs": [
    {
     "data": {
      "text/plain": [
       "<__main__.BinarySearchTree at 0x7fa87fde7f90>"
      ]
     },
     "execution_count": 185,
     "metadata": {},
     "output_type": "execute_result"
    }
   ],
   "source": [
    "bst.insert(156)"
   ]
  },
  {
   "cell_type": "code",
   "execution_count": 186,
   "metadata": {},
   "outputs": [
    {
     "name": "stdout",
     "output_type": "stream",
     "text": [
      "Nodes of graph:  [67, 56, 98, 23, 87, 156, 12, 45, 34, 31, 38, 29, 25]\n"
     ]
    },
    {
     "data": {
      "image/png": "[encoded data removed]",
      "text/plain": [
       "<Figure size 432x288 with 1 Axes>"
      ]
     },
     "metadata": {},
     "output_type": "display_data"
    }
   ],
   "source": [
    "bst.graph()"
   ]
  },
  {
   "cell_type": "code",
   "execution_count": null,
   "metadata": {},
   "outputs": [],
   "source": []
  },
  {
   "cell_type": "code",
   "execution_count": null,
   "metadata": {},
   "outputs": [],
   "source": []
  },
  {
   "cell_type": "code",
   "execution_count": null,
   "metadata": {},
   "outputs": [],
   "source": []
  },
  {
   "cell_type": "code",
   "execution_count": 45,
   "metadata": {},
   "outputs": [
    {
     "name": "stdout",
     "output_type": "stream",
     "text": [
      "Nodes of graph: \n",
      "['Toronto', 'London', 'Berlin', 'New York']\n",
      "Edges of graph: \n",
      "[('Toronto', 'London'), ('London', 'Berlin'), ('Berlin', 'New York')]\n"
     ]
    },
    {
     "data": {
      "image/png": "[encoded data removed]",
      "text/plain": [
       "<Figure size 432x288 with 1 Axes>"
      ]
     },
     "metadata": {},
     "output_type": "display_data"
    }
   ],
   "source": [
    "import networkx as nx\n",
    "import matplotlib.pyplot as plt\n",
    "\n",
    "G=nx.path_graph(4)\n",
    "cities = {0:\"Toronto\",1:\"London\",2:\"Berlin\",3:\"New York\"}\n",
    "\n",
    "H=nx.relabel_nodes(G,cities)\n",
    " \n",
    "print(\"Nodes of graph: \")\n",
    "print(H.nodes())\n",
    "print(\"Edges of graph: \")\n",
    "print(H.edges())\n",
    "nx.draw(H, with_labels = True)\n",
    "# plt.savefig(\"path_graph_cities.png\")\n",
    "# plt.show()\n"
   ]
  },
  {
   "cell_type": "code",
   "execution_count": 143,
   "metadata": {},
   "outputs": [],
   "source": [
    "bst = nx.Graph()"
   ]
  },
  {
   "cell_type": "code",
   "execution_count": 144,
   "metadata": {},
   "outputs": [],
   "source": [
    "bst.add_node('45')\n",
    "bst.add_node('12')\n",
    "bst.add_node('35')\n",
    "bst.add_node('6')\n",
    "bst.add_node(8)"
   ]
  },
  {
   "cell_type": "code",
   "execution_count": 139,
   "metadata": {},
   "outputs": [],
   "source": [
    "bst.add_edge('45', '12')\n",
    "bst.add_edge('45', '35')\n",
    "bst.add_edge('12', '6')\n",
    "bst.add_edge('12', 8)"
   ]
  },
  {
   "cell_type": "code",
   "execution_count": 145,
   "metadata": {
    "scrolled": true
   },
   "outputs": [
    {
     "data": {
      "image/png": "[encoded data removed]",
      "text/plain": [
       "<Figure size 432x288 with 1 Axes>"
      ]
     },
     "metadata": {},
     "output_type": "display_data"
    }
   ],
   "source": [
    "bst.add_edge('45', '12')\n",
    "bst.add_edge('45', '35')\n",
    "nx.draw(bst, with_labels = True)"
   ]
  },
  {
   "cell_type": "code",
   "execution_count": 146,
   "metadata": {},
   "outputs": [
    {
     "data": {
      "image/png": "[encoded data removed]",
      "text/plain": [
       "<Figure size 432x288 with 1 Axes>"
      ]
     },
     "metadata": {},
     "output_type": "display_data"
    }
   ],
   "source": [
    "bst.add_edge('12', '45')\n",
    "bst.add_edge('35', '45')\n",
    "nx.draw(bst, with_labels = True)"
   ]
  },
  {
   "cell_type": "code",
   "execution_count": 140,
   "metadata": {},
   "outputs": [
    {
     "data": {
      "image/png": "[encoded data removed]",
      "text/plain": [
       "<Figure size 432x288 with 1 Axes>"
      ]
     },
     "metadata": {},
     "output_type": "display_data"
    }
   ],
   "source": [
    "nx.draw(bst, with_labels = True)"
   ]
  },
  {
   "cell_type": "code",
   "execution_count": null,
   "metadata": {},
   "outputs": [],
   "source": []
  }
 ],
 "metadata": {
  "kernelspec": {
   "display_name": "Python 3",
   "language": "python",
   "name": "python3"
  },
  "language_info": {
   "codemirror_mode": {
    "name": "ipython",
    "version": 3
   },
   "file_extension": ".py",
   "mimetype": "text/x-python",
   "name": "python",
   "nbconvert_exporter": "python",
   "pygments_lexer": "ipython3",
   "version": "3.7.6"
  }
 },
 "nbformat": 4,
 "nbformat_minor": 2
}
