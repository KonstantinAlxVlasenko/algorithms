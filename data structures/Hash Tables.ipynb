{
 "cells": [
  {
   "cell_type": "markdown",
   "metadata": {},
   "source": [
    "# Hash Tables\n",
    "\n",
    "#### Hash tables are collection of key-value pairs\n",
    "#### Hash tables can find values quickly given a key\n",
    "#### Hash tables store data in a large array, and work by hashing the keys\n",
    "#### A good hash should be fast, distribute keys uniformly, and be determenistic\n",
    "#### Separate chaining and linear probing are two strategies used to deal with two keys keys that hash to the same index"
   ]
  },
  {
   "cell_type": "markdown",
   "metadata": {},
   "source": [
    "### Big O (average case)\n",
    "#### Insertion - O(1), Deletion - O(1), Access O(1)"
   ]
  },
  {
   "cell_type": "code",
   "execution_count": 32,
   "metadata": {},
   "outputs": [],
   "source": [
    "class HashTable:\n",
    "    \n",
    "    \n",
    "    def __init__(self, size=53):\n",
    "        \n",
    "        self.key_map = [None] * size\n",
    "        \n",
    "        \n",
    "    def _hash(self, key: str):\n",
    "        \"\"\"\n",
    "        Hash function used to transform string key into integer\n",
    "        \"\"\"\n",
    "        total = 0\n",
    "        # prime num usage allows reducing integer collisions\n",
    "        # and spread data in the list as much as possible\n",
    "        prime_num = 31\n",
    "        for i, char in enumerate(key):\n",
    "            # check only 100 symbols of a string\n",
    "            if i > 100:\n",
    "                break\n",
    "            value = ord(char) - 96\n",
    "            total = (total*prime_num + value) % len(self.key_map)\n",
    "        return total\n",
    "    \n",
    "    \n",
    "    def set_pair(self, key, value):\n",
    "        \"\"\"\n",
    "        Method puts key, value pair in hash table.\n",
    "        If key is already exist value is overwritten.\n",
    "        \"\"\"\n",
    "        \n",
    "        # get key index of hash table\n",
    "        idx = self._hash(key)\n",
    "        key_exist = False\n",
    "        # if no data were written to hashtable with idx index\n",
    "        if not self.key_map[idx]:\n",
    "            self.key_map[idx] = []\n",
    "        i = 0\n",
    "        # iterate over key, value pairs with idx index to check\n",
    "        # if key is already exist\n",
    "        for k, _ in self.key_map[idx]:\n",
    "            if k == key:\n",
    "                # overwrite value for existing key\n",
    "                self.key_map[idx][i][1] = value\n",
    "                key_exist = True\n",
    "                break\n",
    "            i += 1\n",
    "        if not key_exist:        \n",
    "            self.key_map[idx].append([key, value])\n",
    "        \n",
    "        \n",
    "    def get_value(self, search_key):\n",
    "        \"\"\"Method to get value of the given key\"\"\"\n",
    "        \n",
    "        # get key index of hash table\n",
    "        idx = self._hash(search_key)\n",
    "        # if data exist in hash table in idx index\n",
    "        if self.key_map[idx]:\n",
    "            # check if there is a required key\n",
    "            for key, value in self.key_map[idx]:\n",
    "                if key == search_key:\n",
    "                    return value\n",
    "        return None\n",
    "    \n",
    "    \n",
    "    def keys(self):\n",
    "        \"\"\"Method returns hash table keys\"\"\"\n",
    "        \n",
    "        keys = []\n",
    "        for element in self.key_map:\n",
    "            if element:\n",
    "                for key, _ in element:\n",
    "                    keys.append(key)\n",
    "        return keys\n",
    "        \n",
    "    \n",
    "    def values(self):\n",
    "        \"\"\"Method returns hash table unique values\"\"\"\n",
    "        \n",
    "        values = set()\n",
    "        for element in self.key_map:\n",
    "            if element:\n",
    "                for _, value in element:\n",
    "                    values.add(value)\n",
    "        return list(values)\n",
    "    \n",
    "    \n",
    "    def items(self):\n",
    "        \"\"\"Method returns hash table key, value pairs\"\"\"\n",
    "        \n",
    "        items = []\n",
    "        for element in self.key_map:\n",
    "            if element:\n",
    "                for item in element:\n",
    "                    items.append(tuple(item))\n",
    "        return items"
   ]
  },
  {
   "cell_type": "code",
   "execution_count": 33,
   "metadata": {},
   "outputs": [],
   "source": [
    "ht = HashTable(20)"
   ]
  },
  {
   "cell_type": "code",
   "execution_count": 34,
   "metadata": {},
   "outputs": [],
   "source": [
    "colors_codes = [('white', '#FFFFFF'), ('silver', '#C0C0C0'), ('gray', '#808080'), ('black', '#000000'), ('red', '#FF0000'), ('maroon', '#800000'), ('yellow', '#FFFF00'), ('olive', '#808000'), ('lime', '#00FF00'), ('green', '#008000'), ('aqua', '#00FFFF'), ('teal', '#008080'), ('blue', '#0000FF'), ('navy', '#000080'), ('fuchsia', '#FF00FF'), ('purple', '#800080')]"
   ]
  },
  {
   "cell_type": "code",
   "execution_count": 35,
   "metadata": {},
   "outputs": [],
   "source": [
    "for color, code in colors_codes:\n",
    "    ht.set_pair(color, code)"
   ]
  },
  {
   "cell_type": "code",
   "execution_count": 36,
   "metadata": {},
   "outputs": [
    {
     "data": {
      "text/plain": [
       "[[['aqua', '#00FFFF']],\n",
       " None,\n",
       " [['navy', '#000080']],\n",
       " [['olive', '#808000']],\n",
       " None,\n",
       " [['white', '#FFFFFF'], ['silver', '#C0C0C0']],\n",
       " None,\n",
       " [['fuchsia', '#FF00FF']],\n",
       " [['teal', '#008080'], ['purple', '#800080']],\n",
       " [['lime', '#00FF00']],\n",
       " [['blue', '#0000FF']],\n",
       " [['gray', '#808080']],\n",
       " [['yellow', '#FFFF00']],\n",
       " None,\n",
       " None,\n",
       " None,\n",
       " [['maroon', '#800000']],\n",
       " [['red', '#FF0000']],\n",
       " None,\n",
       " [['black', '#000000'], ['green', '#008000']]]"
      ]
     },
     "execution_count": 36,
     "metadata": {},
     "output_type": "execute_result"
    }
   ],
   "source": [
    "ht.key_map"
   ]
  },
  {
   "cell_type": "code",
   "execution_count": 37,
   "metadata": {},
   "outputs": [
    {
     "data": {
      "text/plain": [
       "['aqua',\n",
       " 'navy',\n",
       " 'olive',\n",
       " 'white',\n",
       " 'silver',\n",
       " 'fuchsia',\n",
       " 'teal',\n",
       " 'purple',\n",
       " 'lime',\n",
       " 'blue',\n",
       " 'gray',\n",
       " 'yellow',\n",
       " 'maroon',\n",
       " 'red',\n",
       " 'black',\n",
       " 'green']"
      ]
     },
     "execution_count": 37,
     "metadata": {},
     "output_type": "execute_result"
    }
   ],
   "source": [
    "ht.keys()"
   ]
  },
  {
   "cell_type": "code",
   "execution_count": 38,
   "metadata": {},
   "outputs": [
    {
     "data": {
      "text/plain": [
       "['#00FF00',\n",
       " '#808080',\n",
       " '#800080',\n",
       " '#008000',\n",
       " '#008080',\n",
       " '#C0C0C0',\n",
       " '#FF0000',\n",
       " '#000080',\n",
       " '#0000FF',\n",
       " '#FFFFFF',\n",
       " '#800000',\n",
       " '#808000',\n",
       " '#FF00FF',\n",
       " '#00FFFF',\n",
       " '#000000',\n",
       " '#FFFF00']"
      ]
     },
     "execution_count": 38,
     "metadata": {},
     "output_type": "execute_result"
    }
   ],
   "source": [
    "ht.values()"
   ]
  },
  {
   "cell_type": "code",
   "execution_count": 39,
   "metadata": {},
   "outputs": [
    {
     "data": {
      "text/plain": [
       "[('aqua', '#00FFFF'),\n",
       " ('navy', '#000080'),\n",
       " ('olive', '#808000'),\n",
       " ('white', '#FFFFFF'),\n",
       " ('silver', '#C0C0C0'),\n",
       " ('fuchsia', '#FF00FF'),\n",
       " ('teal', '#008080'),\n",
       " ('purple', '#800080'),\n",
       " ('lime', '#00FF00'),\n",
       " ('blue', '#0000FF'),\n",
       " ('gray', '#808080'),\n",
       " ('yellow', '#FFFF00'),\n",
       " ('maroon', '#800000'),\n",
       " ('red', '#FF0000'),\n",
       " ('black', '#000000'),\n",
       " ('green', '#008000')]"
      ]
     },
     "execution_count": 39,
     "metadata": {},
     "output_type": "execute_result"
    }
   ],
   "source": [
    "ht.items()"
   ]
  },
  {
   "cell_type": "code",
   "execution_count": 40,
   "metadata": {},
   "outputs": [
    {
     "data": {
      "text/plain": [
       "'#800000'"
      ]
     },
     "execution_count": 40,
     "metadata": {},
     "output_type": "execute_result"
    }
   ],
   "source": [
    "ht.get_value('maroon')"
   ]
  },
  {
   "cell_type": "code",
   "execution_count": null,
   "metadata": {},
   "outputs": [],
   "source": []
  }
 ],
 "metadata": {
  "kernelspec": {
   "display_name": "Python 3",
   "language": "python",
   "name": "python3"
  },
  "language_info": {
   "codemirror_mode": {
    "name": "ipython",
    "version": 3
   },
   "file_extension": ".py",
   "mimetype": "text/x-python",
   "name": "python",
   "nbconvert_exporter": "python",
   "pygments_lexer": "ipython3",
   "version": "3.7.6"
  }
 },
 "nbformat": 4,
 "nbformat_minor": 2
}
