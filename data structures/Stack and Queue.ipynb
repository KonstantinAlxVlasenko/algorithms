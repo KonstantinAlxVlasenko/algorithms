{
 "cells": [
  {
   "cell_type": "markdown",
   "metadata": {},
   "source": [
    "# Stacks"
   ]
  },
  {
   "cell_type": "markdown",
   "metadata": {},
   "source": [
    "### A LIFO data structure\n",
    "\n",
    "### The last element added to the stack will be the first element removed from the stack"
   ]
  },
  {
   "cell_type": "markdown",
   "metadata": {},
   "source": [
    "### Big O\n",
    "#### Insertion - O(1), Removal - O(1)\n",
    "#### Searching - O(N), Access - O(N)"
   ]
  },
  {
   "cell_type": "code",
   "execution_count": 67,
   "metadata": {},
   "outputs": [],
   "source": [
    "class Node:\n",
    "    \"\"\"Class to create Node of the Stack or Queue\"\"\"\n",
    "    \n",
    "    def __init__(self, value):\n",
    "        self.value = value\n",
    "        self.next = None"
   ]
  },
  {
   "cell_type": "code",
   "execution_count": 50,
   "metadata": {},
   "outputs": [],
   "source": [
    "class Stack:\n",
    "    \"\"\"Class to create Stack\"\"\"\n",
    "    \n",
    "    def __init__(self):\n",
    "        self.first = None\n",
    "        self.last = None\n",
    "        self.size = 0\n",
    "\n",
    "        \n",
    "    def print_list(self):\n",
    "        \"\"\"\n",
    "        Shows Stack elements values\n",
    "        \"\"\"\n",
    "        lst = []\n",
    "        current = self.first\n",
    "        while current:\n",
    "            if not current.next:\n",
    "                lst.append((current.value, None))\n",
    "            else:   \n",
    "                lst.append((current.value, current.next.value))\n",
    "            current = current.next\n",
    "        print(lst)      \n",
    "        \n",
    "    \n",
    "    def push(self, value):\n",
    "        \"\"\"\n",
    "        Adds a value to the top of the stack.\n",
    "        Returns size of stack\n",
    "        \"\"\"\n",
    "        \n",
    "        # create a new node using the value passed to the function\n",
    "        new_node = Node(value)\n",
    "        # if there are no nodes in the stack, set the first and\n",
    "        # last property to be the newly created node\n",
    "        if not self.first:\n",
    "            self.first = new_node\n",
    "            self.last = self.first\n",
    "        # if there is at least one node\n",
    "        else:\n",
    "            # create a variable that stores the current first\n",
    "            # property on the stack\n",
    "            ex_first = self.first\n",
    "            # reset the first property to be the newly created node\n",
    "            self.first = new_node\n",
    "            # set the next property on the node to be previously \n",
    "            # created variable\n",
    "            new_node.next = ex_first\n",
    "        \n",
    "        # increment length of the list by 1\n",
    "        self.size += 1\n",
    "        \n",
    "        return self.size\n",
    "    \n",
    "    \n",
    "    def pop(self):\n",
    "        \"\"\"\n",
    "        Removes node from the top of the Stack.\n",
    "        Returns removed value\n",
    "        \"\"\"\n",
    "        # if there are no nodes, return None\n",
    "        if not self.first:\n",
    "            return None\n",
    "        # store the current first property in variable\n",
    "        old_first = self.first\n",
    "        # if there is only 1 node\n",
    "        if self.size == 1:\n",
    "            # set the first and last property to be None\n",
    "            self.first = None\n",
    "            self.last = None\n",
    "        # if there is more than one node\n",
    "        else:\n",
    "            # set the first property to be the next property\n",
    "            # on the current first\n",
    "            self.first = old_first.next\n",
    "        \n",
    "        # decrement length by 1\n",
    "        self.size -= 1\n",
    "        old_first.next = None    \n",
    "        \n",
    "        return old_first.value"
   ]
  },
  {
   "cell_type": "code",
   "execution_count": 51,
   "metadata": {},
   "outputs": [],
   "source": [
    "s = Stack()"
   ]
  },
  {
   "cell_type": "code",
   "execution_count": 55,
   "metadata": {},
   "outputs": [
    {
     "data": {
      "text/plain": [
       "4"
      ]
     },
     "execution_count": 55,
     "metadata": {},
     "output_type": "execute_result"
    }
   ],
   "source": [
    "s.push('6')"
   ]
  },
  {
   "cell_type": "code",
   "execution_count": 66,
   "metadata": {},
   "outputs": [
    {
     "name": "stdout",
     "output_type": "stream",
     "text": [
      "[]\n"
     ]
    }
   ],
   "source": [
    "s.print_list()"
   ]
  },
  {
   "cell_type": "code",
   "execution_count": 65,
   "metadata": {},
   "outputs": [],
   "source": [
    "s.pop()"
   ]
  },
  {
   "cell_type": "markdown",
   "metadata": {},
   "source": [
    "# Queue"
   ]
  },
  {
   "cell_type": "markdown",
   "metadata": {},
   "source": [
    "### A FIFO (First In First Out) data structure"
   ]
  },
  {
   "cell_type": "markdown",
   "metadata": {},
   "source": [
    "### Big O\n",
    "#### Insertion - O(1), Removal - O(1)\n",
    "#### Searching - O(N), Access - O(N)"
   ]
  },
  {
   "cell_type": "code",
   "execution_count": 85,
   "metadata": {},
   "outputs": [],
   "source": [
    "class Queue:\n",
    "    \"\"\"Class to create Queue\"\"\"\n",
    "    \n",
    "    def __init__(self):\n",
    "        self.first = None\n",
    "        self.last = None\n",
    "        self.size = 0\n",
    "\n",
    "        \n",
    "    def print_list(self):\n",
    "        \"\"\"\n",
    "        Shows Queue elements values\n",
    "        \"\"\"\n",
    "        lst = []\n",
    "        current = self.first\n",
    "        while current:\n",
    "            if not current.next:\n",
    "                lst.append((current.value, None))\n",
    "            else:   \n",
    "                lst.append((current.value, current.next.value))\n",
    "            current = current.next\n",
    "        print(lst)\n",
    "        \n",
    "        \n",
    "    def enqueue(self, value):\n",
    "        \"\"\"\n",
    "        Adds a new node to the end of the Queue. \n",
    "        Takes value of new Node as an argument. \n",
    "        Returns updated size of queue\n",
    "        \"\"\"\n",
    "        # create a new node using value passed to the function\n",
    "        new_node = Node(value)\n",
    "        # if there are no nodes in the queue\n",
    "        if self.size == 0:\n",
    "            # set this node to be the first and last property of the queue\n",
    "            self.first = new_node\n",
    "            self.last = new_node\n",
    "        # otherwise\n",
    "        else:\n",
    "            # set the next property on the current last to be that node\n",
    "            self.last.next = new_node\n",
    "            # and then set the last property of the queue to be that node\n",
    "            self.last = new_node\n",
    "        # increment the size of the queue by 1\n",
    "        self.size += 1\n",
    "        return self.size\n",
    "    \n",
    "    \n",
    "    def dequeue(self):\n",
    "        \"\"\"\n",
    "        Removes node from the top of the Queue.\n",
    "        Returns removed node value\n",
    "        \"\"\"\n",
    "        # if there are no nodes, return None\n",
    "        if not self.first:\n",
    "            return None\n",
    "        # store the current first property in variable\n",
    "        old_first = self.first\n",
    "        # if there is only 1 node (if the first is the same as last)\n",
    "        if self.first == self.last:\n",
    "            # set the first and last property to be None\n",
    "            self.first = None\n",
    "            self.last = None\n",
    "        # if there is more than one node\n",
    "        else:\n",
    "            # set the first property to be the next property\n",
    "            # on the current first\n",
    "            self.first = old_first.next\n",
    "        \n",
    "        # decrement length by 1\n",
    "        self.size -= 1\n",
    "        old_first.next = None    \n",
    "        \n",
    "        return old_first.value"
   ]
  },
  {
   "cell_type": "code",
   "execution_count": 72,
   "metadata": {},
   "outputs": [],
   "source": [
    "q = Queue()"
   ]
  },
  {
   "cell_type": "code",
   "execution_count": 74,
   "metadata": {},
   "outputs": [
    {
     "data": {
      "text/plain": [
       "1"
      ]
     },
     "execution_count": 74,
     "metadata": {},
     "output_type": "execute_result"
    }
   ],
   "source": [
    "q.enqueue('first')"
   ]
  },
  {
   "cell_type": "code",
   "execution_count": 75,
   "metadata": {},
   "outputs": [
    {
     "data": {
      "text/plain": [
       "2"
      ]
     },
     "execution_count": 75,
     "metadata": {},
     "output_type": "execute_result"
    }
   ],
   "source": [
    "q.enqueue('second')"
   ]
  },
  {
   "cell_type": "code",
   "execution_count": 76,
   "metadata": {},
   "outputs": [
    {
     "name": "stdout",
     "output_type": "stream",
     "text": [
      "[('first', 'second'), ('second', None)]\n"
     ]
    }
   ],
   "source": [
    "q.print_list()"
   ]
  },
  {
   "cell_type": "code",
   "execution_count": 77,
   "metadata": {},
   "outputs": [
    {
     "data": {
      "text/plain": [
       "3"
      ]
     },
     "execution_count": 77,
     "metadata": {},
     "output_type": "execute_result"
    }
   ],
   "source": [
    "q.enqueue('THIRD')"
   ]
  },
  {
   "cell_type": "code",
   "execution_count": 84,
   "metadata": {},
   "outputs": [
    {
     "name": "stdout",
     "output_type": "stream",
     "text": [
      "[]\n"
     ]
    }
   ],
   "source": [
    "q.print_list()"
   ]
  },
  {
   "cell_type": "code",
   "execution_count": 83,
   "metadata": {},
   "outputs": [
    {
     "data": {
      "text/plain": [
       "'THIRD'"
      ]
     },
     "execution_count": 83,
     "metadata": {},
     "output_type": "execute_result"
    }
   ],
   "source": [
    "q.dequeue()"
   ]
  },
  {
   "cell_type": "code",
   "execution_count": null,
   "metadata": {},
   "outputs": [],
   "source": []
  }
 ],
 "metadata": {
  "kernelspec": {
   "display_name": "Python 3",
   "language": "python",
   "name": "python3"
  },
  "language_info": {
   "codemirror_mode": {
    "name": "ipython",
    "version": 3
   },
   "file_extension": ".py",
   "mimetype": "text/x-python",
   "name": "python",
   "nbconvert_exporter": "python",
   "pygments_lexer": "ipython3",
   "version": "3.7.6"
  }
 },
 "nbformat": 4,
 "nbformat_minor": 2
}
