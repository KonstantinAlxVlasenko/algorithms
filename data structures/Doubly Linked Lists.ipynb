{
 "cells": [
  {
   "cell_type": "markdown",
   "metadata": {},
   "source": [
    "# Doubly Linked Lists"
   ]
  },
  {
   "cell_type": "markdown",
   "metadata": {},
   "source": [
    "### Do not have indexes!\n",
    "### Connected via nodes with next and prev pointers\n",
    "### Random access is not allowed"
   ]
  },
  {
   "cell_type": "code",
   "execution_count": 1,
   "metadata": {},
   "outputs": [],
   "source": [
    "class Node:\n",
    "    \n",
    "    def __init__(self, value):\n",
    "        self.value = value\n",
    "        self.next = None\n",
    "        self.prev = None"
   ]
  },
  {
   "cell_type": "code",
   "execution_count": 61,
   "metadata": {},
   "outputs": [],
   "source": [
    "class DoublyLinkList:\n",
    "    \n",
    "    def __init__(self):\n",
    "        self.head = None\n",
    "        self.tail = None\n",
    "        self.length = 0\n",
    "\n",
    "        \n",
    "    def print_list(self):\n",
    "        \"\"\"\n",
    "        Shows Doubly Linked list elements values\n",
    "        \"\"\"\n",
    "        lst = []\n",
    "        current = self.head\n",
    "        while current:\n",
    "            if not current.prev or not current.next:\n",
    "                if not current.prev and current.next:\n",
    "                    lst.append((None, current.value, current.next.value))\n",
    "                elif not current.next and current.prev:\n",
    "                    lst.append((current.prev.value, current.value, None))\n",
    "                elif not current.prev and not current.next:\n",
    "                    lst.append((None, current.value, None))\n",
    "            else:   \n",
    "                lst.append((current.prev.value, current.value, current.next.value))\n",
    "            current = current.next\n",
    "        print(lst)      \n",
    "        \n",
    "        \n",
    "    def push(self, value):\n",
    "        \"\"\"\n",
    "        Adds a new node to the end of the\n",
    "        Doubly Linked list. Takes value of new Node\n",
    "        as an argument. Returns updated list\n",
    "        \"\"\"\n",
    "        \n",
    "        # create a new node with the value passed to the fuunction\n",
    "        new_node = Node(value)\n",
    "        # if the head property is None set the head and tail\n",
    "        # to be the newly created node\n",
    "        if not self.head:\n",
    "            self.head = new_node\n",
    "            self.tail = self.head\n",
    "        # if not \n",
    "        else:\n",
    "            # set the next property on the  tail to be that node\n",
    "            self.tail.next = new_node\n",
    "            # set the previous property on the newly created node\n",
    "            # to be the tail\n",
    "            new_node.prev = self.tail\n",
    "            # set the tail to be the newly created node\n",
    "            self.tail = new_node\n",
    "        # increment the length\n",
    "        self.length += 1\n",
    "        \n",
    "        return self\n",
    "    \n",
    "    \n",
    "    def pop(self):\n",
    "        \"\"\"\n",
    "        Removes a node from the end of the Doubly Linked List\n",
    "        Returns popped node\n",
    "        \"\"\"\n",
    "        \n",
    "        if not self.head:\n",
    "            return None\n",
    "        # store the current tail in variable to return later\n",
    "        popped_node = self.tail\n",
    "        # if the length is 1, set the head and tail to be None\n",
    "        if self.length == 1:\n",
    "            self.head = None\n",
    "            self. tail = None\n",
    "        else:\n",
    "            # update the tail to be the previous node\n",
    "            self.tail = popped_node.prev\n",
    "            # set the new tail's next property to null\n",
    "            self.tail.next = None\n",
    "            # set prev property of poped node to None\n",
    "            popped_node.prev = None\n",
    "        # decrement the length\n",
    "        self.length -= 1\n",
    "        \n",
    "        return popped_node\n",
    "    \n",
    "    \n",
    "    def shift(self):\n",
    "        \"\"\"\n",
    "        Removes a node from the beggining of the Doubly Linked List.\n",
    "        Returns shifted node\n",
    "        \"\"\"\n",
    "        \n",
    "        # if the length is 0, return None\n",
    "        if not self.head:\n",
    "            return None\n",
    "        \n",
    "        # store the current head property in a variable\n",
    "        old_head = self.head\n",
    "        #if the length is one\n",
    "        if self.length == 1:\n",
    "            # set the head to be None\n",
    "            self.head = None\n",
    "            # set the tail to be None\n",
    "            self.tail = None\n",
    "        else:\n",
    "            # update the head to be the next of the old head\n",
    "            self.head = old_head.next\n",
    "            # set the head's prev property to None\n",
    "            self.head.prev = None\n",
    "            # set the old head's next property to None\n",
    "            old_head.next = None\n",
    "        \n",
    "        # decrement the length\n",
    "        self.length -= 1\n",
    "        \n",
    "        return old_head\n",
    "        \n",
    "        \n",
    "    def unshift(self, value):\n",
    "        \"\"\"\n",
    "        Adds a node to the beggining of the Doubly Linked list.\n",
    "        Takes node value as argument. Returns updated list\n",
    "        \"\"\"\n",
    "        \n",
    "        # create a new node with the value passed to the function\n",
    "        new_node = Node(value)\n",
    "        if self.length == 0:\n",
    "            # set the head to be the new node\n",
    "            self.head = new_node\n",
    "            # set the tail to be the new node\n",
    "            self.head = new_node\n",
    "        else:\n",
    "            # set the prev property on the head of the list to be\n",
    "            # the new node\n",
    "            self.head.prev = new_node\n",
    "            # set the next property on the new node to be the head\n",
    "            # property\n",
    "            new_node.next = self.head\n",
    "            # update the head\n",
    "            self.head = new_node\n",
    "        \n",
    "        # increment the length\n",
    "        self.length += 1\n",
    "        \n",
    "        return self\n",
    "    \n",
    "    \n",
    "    def get(self, index):\n",
    "        \"\"\"\n",
    "        Accessing a node in a Doubly Linked List by its position\n",
    "        Returns the node with index\n",
    "        \"\"\"\n",
    "        \n",
    "        if index < 0  or index >= self.length:\n",
    "            return None\n",
    "        \n",
    "        # if the index is less than or equal to half of the length\n",
    "        # of the list\n",
    "        if index <= self.length/2:\n",
    "            # loop through the list starting from the head and\n",
    "            # loop towards the middle\n",
    "            count = 0\n",
    "            current_node = self.head\n",
    "            while count != index:\n",
    "                current_node = current_node.next\n",
    "                count += 1\n",
    "        # if the index is greater than half of the list\n",
    "        else:\n",
    "            # loop through the list starting from the tail and\n",
    "            # loop towards the middle\n",
    "            count = self.length - 1\n",
    "            current_node = self.tail\n",
    "            while count != index:\n",
    "                current_node = current_node.prev\n",
    "                count -= 1\n",
    "                \n",
    "        return current_node.value\n",
    "        "
   ]
  },
  {
   "cell_type": "code",
   "execution_count": 62,
   "metadata": {},
   "outputs": [],
   "source": [
    "d = DoublyLinkList()"
   ]
  },
  {
   "cell_type": "code",
   "execution_count": 63,
   "metadata": {},
   "outputs": [
    {
     "data": {
      "text/plain": [
       "<__main__.DoublyLinkList at 0x7f8f101fb510>"
      ]
     },
     "execution_count": 63,
     "metadata": {},
     "output_type": "execute_result"
    }
   ],
   "source": [
    "d.push(7)\n",
    "d.push(8)\n",
    "d.push(9)\n",
    "d.push(25)\n",
    "d.push(12)"
   ]
  },
  {
   "cell_type": "code",
   "execution_count": 64,
   "metadata": {},
   "outputs": [
    {
     "data": {
      "text/plain": [
       "<__main__.DoublyLinkList at 0x7f8f101fb510>"
      ]
     },
     "execution_count": 64,
     "metadata": {},
     "output_type": "execute_result"
    }
   ],
   "source": [
    "d.push(25)"
   ]
  },
  {
   "cell_type": "code",
   "execution_count": 65,
   "metadata": {},
   "outputs": [
    {
     "name": "stdout",
     "output_type": "stream",
     "text": [
      "[(None, 7, 8), (7, 8, 9), (8, 9, 25), (9, 25, 12), (25, 12, 25), (12, 25, None)]\n"
     ]
    }
   ],
   "source": [
    "d.print_list()"
   ]
  },
  {
   "cell_type": "code",
   "execution_count": 47,
   "metadata": {},
   "outputs": [
    {
     "data": {
      "text/plain": [
       "7"
      ]
     },
     "execution_count": 47,
     "metadata": {},
     "output_type": "execute_result"
    }
   ],
   "source": [
    "d.head.value"
   ]
  },
  {
   "cell_type": "code",
   "execution_count": 76,
   "metadata": {},
   "outputs": [
    {
     "data": {
      "text/plain": [
       "<__main__.Node at 0x7f20641bf090>"
      ]
     },
     "execution_count": 76,
     "metadata": {},
     "output_type": "execute_result"
    }
   ],
   "source": [
    "d.pop()"
   ]
  },
  {
   "cell_type": "code",
   "execution_count": 26,
   "metadata": {},
   "outputs": [],
   "source": [
    "d.shift()"
   ]
  },
  {
   "cell_type": "code",
   "execution_count": 33,
   "metadata": {},
   "outputs": [
    {
     "data": {
      "text/plain": [
       "<__main__.DoublyLinkList at 0x7f8f10255150>"
      ]
     },
     "execution_count": 33,
     "metadata": {},
     "output_type": "execute_result"
    }
   ],
   "source": [
    "d.unshift(78)"
   ]
  },
  {
   "cell_type": "code",
   "execution_count": 31,
   "metadata": {},
   "outputs": [
    {
     "name": "stdout",
     "output_type": "stream",
     "text": [
      "[(None, 67, 67), (67, 67, None)]\n"
     ]
    }
   ],
   "source": [
    "d.print_list()"
   ]
  },
  {
   "cell_type": "code",
   "execution_count": 40,
   "metadata": {},
   "outputs": [
    {
     "data": {
      "text/plain": [
       "8"
      ]
     },
     "execution_count": 40,
     "metadata": {},
     "output_type": "execute_result"
    }
   ],
   "source": [
    "d.length"
   ]
  },
  {
   "cell_type": "code",
   "execution_count": 66,
   "metadata": {},
   "outputs": [
    {
     "data": {
      "text/plain": [
       "25"
      ]
     },
     "execution_count": 66,
     "metadata": {},
     "output_type": "execute_result"
    }
   ],
   "source": [
    "d.get(5)"
   ]
  },
  {
   "cell_type": "code",
   "execution_count": null,
   "metadata": {},
   "outputs": [],
   "source": []
  }
 ],
 "metadata": {
  "kernelspec": {
   "display_name": "Python 3",
   "language": "python",
   "name": "python3"
  },
  "language_info": {
   "codemirror_mode": {
    "name": "ipython",
    "version": 3
   },
   "file_extension": ".py",
   "mimetype": "text/x-python",
   "name": "python",
   "nbconvert_exporter": "python",
   "pygments_lexer": "ipython3",
   "version": "3.7.4"
  }
 },
 "nbformat": 4,
 "nbformat_minor": 2
}
