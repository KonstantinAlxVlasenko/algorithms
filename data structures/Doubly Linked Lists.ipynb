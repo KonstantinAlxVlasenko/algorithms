{
 "cells": [
  {
   "cell_type": "markdown",
   "metadata": {},
   "source": [
    "# Doubly Linked Lists"
   ]
  },
  {
   "cell_type": "markdown",
   "metadata": {},
   "source": [
    "### Do not have indexes!\n",
    "### Connected via nodes with next and prev pointers\n",
    "### Random access is not allowed"
   ]
  },
  {
   "cell_type": "markdown",
   "metadata": {},
   "source": [
    "### Big O\n",
    "#### Insertion - O(1), Removal - O(1)\n",
    "#### Searching - O(N), Access - O(N)"
   ]
  },
  {
   "cell_type": "code",
   "execution_count": 267,
   "metadata": {},
   "outputs": [],
   "source": [
    "import networkx as nx\n",
    "import matplotlib.pyplot as plt"
   ]
  },
  {
   "cell_type": "code",
   "execution_count": 161,
   "metadata": {},
   "outputs": [],
   "source": [
    "class Node:\n",
    "    \"\"\"Class to create Node of the Singly Linked List \"\"\"\n",
    "    def __init__(self, value):\n",
    "        self.value = value\n",
    "        self.next = None\n",
    "        self.prev = None"
   ]
  },
  {
   "cell_type": "code",
   "execution_count": 279,
   "metadata": {},
   "outputs": [],
   "source": [
    "class DoublyLinkList:\n",
    "    \"\"\"Class to create Doubly Linked List\"\"\"\n",
    "    \n",
    "    def __init__(self):\n",
    "        self.head = None\n",
    "        self.tail = None\n",
    "        self.length = 0\n",
    "\n",
    "\n",
    "    def print_list(self):\n",
    "        \"\"\"\n",
    "        Shows Doubly Linked list elements values\n",
    "        \"\"\"\n",
    "        lst = []\n",
    "        current = self.head\n",
    "        while current:\n",
    "            lst.append(current.value)\n",
    "            current = current.next\n",
    "        \n",
    "        return lst \n",
    "        \n",
    "        \n",
    "    def nodes_connection(self):\n",
    "        \"\"\"\n",
    "        Shows Doubly Linked list elements values\n",
    "        \"\"\"\n",
    "        \n",
    "        lst = []\n",
    "        current = self.head\n",
    "        while current:\n",
    "            if not current.prev or not current.next:\n",
    "                if not current.prev and current.next:\n",
    "                    lst.append([None, current.value, current.next.value])\n",
    "                elif not current.next and current.prev:\n",
    "                    lst.append([current.prev.value, current.value, None])\n",
    "                elif not current.prev and not current.next:\n",
    "                    lst.append([None, current.value, None])\n",
    "            else:   \n",
    "                lst.append([current.prev.value, current.value, current.next.value])\n",
    "            current = current.next\n",
    "        \n",
    "        return lst      \n",
    "\n",
    "    \n",
    "    def graph(self):\n",
    "        \"\"\"\n",
    "        Builds Doubly Linked List graph\n",
    "        \"\"\"\n",
    "\n",
    "        nodes = self.nodes_connection()\n",
    "        dll_graph = nx.Graph()\n",
    "        counter = 0\n",
    "        for node in nodes:\n",
    "            nodename = str(node[1]) + ' - ' + str(counter)\n",
    "            dll_graph.add_node(nodename)\n",
    "#             if node[0]:\n",
    "#                 dll_graph.add_node(node[0])\n",
    "#                 dll_graph.add_edge(node[1], node[0])\n",
    "            if node[2]:\n",
    "                next_nodename = str(node[2]) + ' - ' + str(counter + 1)\n",
    "                dll_graph.add_node(next_nodename)\n",
    "                dll_graph.add_edge(nodename, next_nodename, weight=1)\n",
    "            counter += 1\n",
    "        \n",
    "        print(\"Nodes of graph: \", dll_graph.nodes())\n",
    "        nx.draw(dll_graph, with_labels = True)\n",
    "    \n",
    "        \n",
    "    def push(self, value):\n",
    "        \"\"\"\n",
    "        Adds a new node to the end of the\n",
    "        Doubly Linked list. Takes value of new Node\n",
    "        as an argument. Returns updated list\n",
    "        \"\"\"\n",
    "        \n",
    "        # create a new node with the value passed to the fuunction\n",
    "        new_node = Node(value)\n",
    "        # if the head property is None set the head and tail\n",
    "        # to be the newly created node\n",
    "        if not self.head:\n",
    "            self.head = new_node\n",
    "            self.tail = self.head\n",
    "        # if not \n",
    "        else:\n",
    "            # set the next property on the  tail to be that node\n",
    "            self.tail.next = new_node\n",
    "            # set the previous property on the newly created node\n",
    "            # to be the tail\n",
    "            new_node.prev = self.tail\n",
    "            # set the tail to be the newly created node\n",
    "            self.tail = new_node\n",
    "        # increment the length\n",
    "        self.length += 1\n",
    "        \n",
    "        return self\n",
    "    \n",
    "    \n",
    "    def pop(self):\n",
    "        \"\"\"\n",
    "        Removes a node from the end of the Doubly Linked List\n",
    "        Returns popped node\n",
    "        \"\"\"\n",
    "        \n",
    "        if not self.head:\n",
    "            return None\n",
    "        # store the current tail in variable to return later\n",
    "        popped_node = self.tail\n",
    "        # if the length is 1, set the head and tail to be None\n",
    "        if self.length == 1:\n",
    "            self.head = None\n",
    "            self. tail = None\n",
    "        else:\n",
    "            # update the tail to be the previous node\n",
    "            self.tail = popped_node.prev\n",
    "            # set the new tail's next property to null\n",
    "            self.tail.next = None\n",
    "            # set prev property of poped node to None\n",
    "            popped_node.prev = None\n",
    "        # decrement the length\n",
    "        self.length -= 1\n",
    "        \n",
    "        return popped_node\n",
    "    \n",
    "    \n",
    "    def shift(self):\n",
    "        \"\"\"\n",
    "        Removes a node from the beggining of the Doubly Linked List.\n",
    "        Returns shifted node\n",
    "        \"\"\"\n",
    "        \n",
    "        # if the length is 0, return None\n",
    "        if not self.head:\n",
    "            return None\n",
    "        \n",
    "        # store the current head property in a variable\n",
    "        old_head = self.head\n",
    "        #if the length is one\n",
    "        if self.length == 1:\n",
    "            # set the head to be None\n",
    "            self.head = None\n",
    "            # set the tail to be None\n",
    "            self.tail = None\n",
    "        else:\n",
    "            # update the head to be the next of the old head\n",
    "            self.head = old_head.next\n",
    "            # set the head's prev property to None\n",
    "            self.head.prev = None\n",
    "            # set the old head's next property to None\n",
    "            old_head.next = None\n",
    "        \n",
    "        # decrement the length\n",
    "        self.length -= 1\n",
    "        \n",
    "        return old_head\n",
    "        \n",
    "        \n",
    "    def unshift(self, value):\n",
    "        \"\"\"\n",
    "        Adds a node to the beggining of the Doubly Linked list.\n",
    "        Takes node value as argument. Returns updated list\n",
    "        \"\"\"\n",
    "        \n",
    "        # create a new node with the value passed to the function\n",
    "        new_node = Node(value)\n",
    "        if self.length == 0:\n",
    "            # set the head to be the new node\n",
    "            self.head = new_node\n",
    "            # set the tail to be the new node\n",
    "            self.head = new_node\n",
    "        else:\n",
    "            # set the prev property on the head of the list to be\n",
    "            # the new node\n",
    "            self.head.prev = new_node\n",
    "            # set the next property on the new node to be the head\n",
    "            # property\n",
    "            new_node.next = self.head\n",
    "            # update the head\n",
    "            self.head = new_node\n",
    "        \n",
    "        # increment the length\n",
    "        self.length += 1\n",
    "        \n",
    "        return self\n",
    "    \n",
    "    \n",
    "    def get(self, index):\n",
    "        \"\"\"\n",
    "        Accessing a node in a Doubly Linked List by its position\n",
    "        Returns the node with index\n",
    "        \"\"\"\n",
    "        \n",
    "        if index < 0  or index >= self.length:\n",
    "            return None\n",
    "        \n",
    "        # if the index is less than or equal to half of the length\n",
    "        # of the list\n",
    "        if index <= self.length/2:\n",
    "            # loop through the list starting from the head and\n",
    "            # loop towards the middle\n",
    "            count = 0\n",
    "            current_node = self.head\n",
    "            while count != index:\n",
    "                current_node = current_node.next\n",
    "                count += 1\n",
    "        # if the index is greater than half of the list\n",
    "        else:\n",
    "            # loop through the list starting from the tail and\n",
    "            # loop towards the middle\n",
    "            count = self.length - 1\n",
    "            current_node = self.tail\n",
    "            while count != index:\n",
    "                current_node = current_node.prev\n",
    "                count -= 1\n",
    "                \n",
    "        return current_node\n",
    "        \n",
    "        \n",
    "    def set_value(self, index, value):\n",
    "        \"\"\"\n",
    "        Changing the value of a node based on it's position in the\n",
    "        Doubly Linked List. Function accepts a value and index \n",
    "        as arguments. Returns True or False\n",
    "        \"\"\"\n",
    "        \n",
    "        # create a variable which is the result of the get method\n",
    "        # at the index passed to the function\n",
    "        modified_node = self.get(index)\n",
    "        # if get method returns valid node\n",
    "        if modified_node:\n",
    "            # set the value of that node to be the value passed\n",
    "            # to the function\n",
    "            modified_node.value = value\n",
    "            return True\n",
    "        return False\n",
    "    \n",
    "    \n",
    "    def insert(self, index, value):\n",
    "        \"\"\"\n",
    "        Adds a node in a Doubly Linked List by a certain position.\n",
    "        Returns True or False\n",
    "        \"\"\"\n",
    "        \n",
    "        # if the index is less then zero or greater than\n",
    "        # the length of the list, return False\n",
    "        if index < 0 or index > self.length:\n",
    "            return False\n",
    "        # if the index is the same as the length, push a new\n",
    "        # node to the end of the list\n",
    "        elif index == self.length:\n",
    "            return bool(self.push(value))\n",
    "        # if the index is 0, unshift a new node to the start\n",
    "        # of the list\n",
    "        elif index == 0:\n",
    "            return bool(self.unshift(value))\n",
    "        # otherwise \n",
    "        else:\n",
    "            new_node = Node(value)\n",
    "            # using get method, access the node at the 'index-1'\n",
    "            before_node = self.get(index-1)\n",
    "            # save next property of before node to the variable\n",
    "            after_node = before_node.next\n",
    "            # set next property on before node to be the new node\n",
    "            before_node.next = new_node\n",
    "            # set prev property on new node to be previous node\n",
    "            new_node.prev = before_node\n",
    "            # set the next property on the new node to be after node\n",
    "            new_node.next = after_node\n",
    "            # set prev property on after node to be the new node\n",
    "            after_node.prev = new_node\n",
    "            # increment the length\n",
    "            self.length += 1\n",
    "            return True\n",
    "        \n",
    "        \n",
    "    def remove(self, index):\n",
    "        \"\"\"\n",
    "        Removing a node from the Singly Linked list\n",
    "        at a specific position. Returns the removed node\n",
    "        \"\"\"\n",
    "        \n",
    "        # if the index is less then zero or greater or equal to\n",
    "        # the length of the list, return None\n",
    "        if index < 0 or index >= self.length:\n",
    "            return None\n",
    "        # if the index is the same as the length-1, pop\n",
    "        # the node from the end of the list\n",
    "        elif index == self.length - 1:\n",
    "            return self.pop()\n",
    "        # if the index is 0, shift a node from the start\n",
    "        # of the list\n",
    "        elif index == 0:\n",
    "            return self.shift()\n",
    "        # otherwise \n",
    "        else:\n",
    "            # use get method to retreive the node to be removed\n",
    "            removed_node = self.get(index)\n",
    "            # save before and after node to a variables\n",
    "            before_node = removed_node.prev\n",
    "            after_node = removed_node.next\n",
    "            # set next property of before node to after node\n",
    "            before_node.next = after_node\n",
    "            # set prev property of after node to befor node\n",
    "            after_node.prev = before_node\n",
    "            # set next and prev properties on removed node to None\n",
    "            removed_node.prev = None\n",
    "            removed_node.next = None            \n",
    "            # decrement length\n",
    "            self.length -= 1\n",
    "            return removed_node\n",
    "        \n",
    "        \n",
    "    def reverse(self):\n",
    "        \"\"\"\n",
    "        Reversing the Doubly Linked List in place. \n",
    "        Returns reversed list\n",
    "        \"\"\"\n",
    "\n",
    "        # create variable called current_node and initialize it\n",
    "        # to the head property\n",
    "        current_node = self.head\n",
    "        # swap the head and tail\n",
    "        self.tail, self.head = self.head, self.tail\n",
    "        # loop through the list\n",
    "        while current_node:\n",
    "            # swap prev and next properties on current node\n",
    "            current_node.prev, current_node.next = current_node.next, current_node.prev\n",
    "            # since next property was cahnged to prev next node is prev\n",
    "            current_node = current_node.prev\n",
    "\n",
    "        return self"
   ]
  },
  {
   "cell_type": "code",
   "execution_count": 280,
   "metadata": {},
   "outputs": [],
   "source": [
    "d = DoublyLinkList()"
   ]
  },
  {
   "cell_type": "code",
   "execution_count": 281,
   "metadata": {},
   "outputs": [
    {
     "data": {
      "text/plain": [
       "<__main__.DoublyLinkList at 0x7f80a84756d0>"
      ]
     },
     "execution_count": 281,
     "metadata": {},
     "output_type": "execute_result"
    }
   ],
   "source": [
    "d.push(7)\n",
    "d.push(8)\n",
    "d.push(9)\n",
    "d.push(25)\n",
    "d.push(12)"
   ]
  },
  {
   "cell_type": "code",
   "execution_count": 254,
   "metadata": {},
   "outputs": [],
   "source": [
    "s = copy.deepcopy(d)"
   ]
  },
  {
   "cell_type": "code",
   "execution_count": 274,
   "metadata": {},
   "outputs": [
    {
     "data": {
      "text/plain": [
       "[7, 8, 9, 25, 12]"
      ]
     },
     "execution_count": 274,
     "metadata": {},
     "output_type": "execute_result"
    }
   ],
   "source": [
    "d.print_list()"
   ]
  },
  {
   "cell_type": "code",
   "execution_count": null,
   "metadata": {},
   "outputs": [],
   "source": []
  },
  {
   "cell_type": "code",
   "execution_count": null,
   "metadata": {},
   "outputs": [],
   "source": []
  },
  {
   "cell_type": "code",
   "execution_count": 275,
   "metadata": {},
   "outputs": [
    {
     "data": {
      "text/plain": [
       "[[None, 7, 8], [7, 8, 9], [8, 9, 25], [9, 25, 12], [25, 12, None]]"
      ]
     },
     "execution_count": 275,
     "metadata": {},
     "output_type": "execute_result"
    }
   ],
   "source": [
    "d.nodes_connection()"
   ]
  },
  {
   "cell_type": "code",
   "execution_count": 282,
   "metadata": {},
   "outputs": [
    {
     "name": "stdout",
     "output_type": "stream",
     "text": [
      "Nodes of graph:  ['7 - 0', '8 - 1', '9 - 2', '25 - 3', '12 - 4']\n"
     ]
    },
    {
     "data": {
      "image/png": "[encoded data removed]",
      "text/plain": [
       "<Figure size 432x288 with 1 Axes>"
      ]
     },
     "metadata": {},
     "output_type": "display_data"
    }
   ],
   "source": [
    "d.graph()"
   ]
  },
  {
   "cell_type": "code",
   "execution_count": 277,
   "metadata": {},
   "outputs": [
    {
     "data": {
      "text/plain": [
       "<__main__.DoublyLinkList at 0x7f80aaba5150>"
      ]
     },
     "execution_count": 277,
     "metadata": {},
     "output_type": "execute_result"
    }
   ],
   "source": [
    "d.unshift(7)"
   ]
  },
  {
   "cell_type": "code",
   "execution_count": 278,
   "metadata": {},
   "outputs": [
    {
     "name": "stdout",
     "output_type": "stream",
     "text": [
      "Nodes of graph:  ['7 - 0', '7 - 1', '8 - 2', '9 - 3', '25 - 4', '12 - 5']\n"
     ]
    },
    {
     "data": {
      "image/png": "[encoded data removed]",
      "text/plain": [
       "<Figure size 432x288 with 1 Axes>"
      ]
     },
     "metadata": {},
     "output_type": "display_data"
    }
   ],
   "source": [
    "d.graph()"
   ]
  },
  {
   "cell_type": "code",
   "execution_count": 268,
   "metadata": {},
   "outputs": [
    {
     "data": {
      "text/plain": [
       "<__main__.DoublyLinkList at 0x7f80a8537450>"
      ]
     },
     "execution_count": 268,
     "metadata": {},
     "output_type": "execute_result"
    }
   ],
   "source": [
    "d.unshift(7)"
   ]
  },
  {
   "cell_type": "code",
   "execution_count": 269,
   "metadata": {},
   "outputs": [
    {
     "data": {
      "text/plain": [
       "[7, 7, 8, 9, 74, 25, 12, 90]"
      ]
     },
     "execution_count": 269,
     "metadata": {},
     "output_type": "execute_result"
    }
   ],
   "source": [
    "d.print_list()"
   ]
  },
  {
   "cell_type": "code",
   "execution_count": 270,
   "metadata": {},
   "outputs": [
    {
     "name": "stdout",
     "output_type": "stream",
     "text": [
      "Nodes of graph:  [7, 8, 9, 74, 25, 12, 90]\n"
     ]
    },
    {
     "data": {
      "image/png": "[encoded data removed]",
      "text/plain": [
       "<Figure size 432x288 with 1 Axes>"
      ]
     },
     "metadata": {},
     "output_type": "display_data"
    }
   ],
   "source": [
    "d.graph()"
   ]
  },
  {
   "cell_type": "code",
   "execution_count": null,
   "metadata": {},
   "outputs": [],
   "source": []
  }
 ],
 "metadata": {
  "kernelspec": {
   "display_name": "Python 3",
   "language": "python",
   "name": "python3"
  },
  "language_info": {
   "codemirror_mode": {
    "name": "ipython",
    "version": 3
   },
   "file_extension": ".py",
   "mimetype": "text/x-python",
   "name": "python",
   "nbconvert_exporter": "python",
   "pygments_lexer": "ipython3",
   "version": "3.7.4"
  }
 },
 "nbformat": 4,
 "nbformat_minor": 2
}
